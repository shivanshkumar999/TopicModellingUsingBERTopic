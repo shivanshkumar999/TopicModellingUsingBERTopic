{
  "cells": [
    {
      "cell_type": "markdown",
      "source": [
        "## Scrape Data from Forbes International Site.\n",
        "\n",
        "\n",
        "---\n",
        "\n",
        "\n",
        "\n",
        "### Here I used 10 **Forbes** articles in the **Innovation** Domain"
      ],
      "metadata": {
        "id": "NeWFeRzZV293"
      }
    },
    {
      "cell_type": "code",
      "execution_count": 110,
      "metadata": {
        "colab": {
          "base_uri": "https://localhost:8080/"
        },
        "id": "oRlstb-GV80z",
        "outputId": "d7d35ed2-2b18-48ae-9a2d-2ede22b2cfbb"
      },
      "outputs": [
        {
          "output_type": "stream",
          "name": "stdout",
          "text": [
            "Parsing document -  0\n",
            "Parsing document -  1\n",
            "Parsing document -  2\n",
            "Parsing document -  3\n",
            "Parsing document -  4\n",
            "Parsing document -  5\n",
            "Parsing document -  6\n",
            "Parsing document -  7\n",
            "Parsing document -  8\n"
          ]
        },
        {
          "output_type": "execute_result",
          "data": {
            "text/plain": [
              "['Tech venture builder. Co-founder and CEO at RAVIN.ai.',\n",
              " ' ',\n",
              " \"Rental car damage is a concern for both car rental companies and for customers. The former, of course, want to be sure that their vehicles are returned as intact as possible, so they can be quickly deployed for the next customer. Customers have their own concerns—like being charged for damage they did not cause. On the other hand, some customers who damage rental vehicles try to cover up that damage. It's a tug of war—and makes for an unpleasant experience for everyone.\",\n",
              " 'But technology to the rescue: Using digital tools, augmented reality, computer vision technology, artificial intelligence and automation, customers can be assured of a fair bill when they return a vehicle and companies can make sure they are treating customers fairly and honestly. This technology, in fact, enables companies to set up contactless returns—where customers simply drop off vehicles and are immediately informed about charges for damage, if any—payable either by them or insurance companies. Perhaps even more importantly, it brings us closer to eliminating uncertainty about whether or not damage occurred during a rental agreement or not.',\n",
              " 'The key to this industry innovation is the deployment of an automated inspection technology that utilizes advanced vision, scanning vehicles when they are rented out and when they are returned. The images taken upon return are compared to the images of the vehicle taken before it was rented. Any major damage or large scratches will of course be visible immediately—but using AI, you can scan any part of the vehicle to determine if it was in any kind of an accident or sustained even minor exterior damage of any kind—on body panels, trim parts, wheels, bumpers or roof.',\n",
              " 'A detailed and itemized list of the damages and the costs to repair each creates a clear and objective record of not only who is responsible, but for what, exactly, they are responsible and how much it will cost to remedy. These costs can also be determined by advanced data-analysis which considers the costs of such repairs in real time, based on market prices.',\n",
              " \"Images could be taken by stationary cameras at a return facility at the agency—at a special airport dropoff point, for example. But with today's sophisticated smartphones—which feature advanced cameras—customers could also simply snap photos of the vehicle and upload them to the rental agency's servers, where the analysis would take place. Augmented reality could help guide the user to scan the car correctly and capture the best images. Thus the customer would save even more time—just dropping off the vehicle without having to wait even the few minutes it would take to analyze the vehicle's images at the dropoff point. That dropoff option could enable painless, quick dropoffs 24/7.\",\n",
              " \"Advanced image analysis isn't just about better customer relations; it can help agencies in other ways. With business dropping to near-zero levels at the beginning of the pandemic, companies sold off much of their fleets in 2020 and 2021, expecting to buy new vehicles when things rebounded. But supply chain issues put a dent in vehicle manufacturing—and when trying to restock, companies faced the same shortages everyone else did. But with demand rising again, companies did the next best thing—keeping their older vehicles and servicing them instead of selling them off as they had in the past.\",\n",
              " \"As a result, many rental vehicles on the road have experienced considerable wear and tear—and companies that want to ensure that their customers have a nice vehicle and don't break down in the middle of nowhere need to do a very thorough analysis of all parts of the car, including the exterior, thus ensuring the vehicle's physical integrity when it's on the road. Using this technology, however, drivers can do an inspection “check-in” on a regular basis, with the data uploaded to the agency, which can remain assured that its vehicle is still roadworthy. With these inspection systems, drivers can also return rentals in a quick contactless manner.\",\n",
              " 'Adopting advanced car inspection systems heralds a new era of efficiency and customer service for car rental companies. Before diving into this technological evolution, there are key considerations that potential adopters should be cognizant of:',\n",
              " \"1. Holistic Integration: Understand that this isn't just a plug-and-play solution. It's a holistic transition that encompasses infrastructure revamp, updated training modules and potentially redefined customer service protocols. A successful transition requires a multifaceted approach.\",\n",
              " \"2. Comprehensive Training: The tech, while sophisticated, is user-friendly with the right training. It’s paramount that both managerial and frontline staff undergo comprehensive sessions to become well-versed with the system's full capabilities. This ensures not only smooth internal operations but also consistent customer interactions.\",\n",
              " '3. Setting Clear Expectations: Clear communication with customers about the new inspection process ensures transparency and trust. Highlight the benefits, such as expedited returns and accurate damage assessments, so they appreciate the value added by this technology.',\n",
              " \"4. Pilot Programs: Before a full-scale rollout, consider running pilot programs at select locations. This allows for real-world testing, helps in identifying areas of improvement and builds internal confidence in the system's efficacy.\",\n",
              " '5. Continuous Feedback: Encourage feedback, both from staff and customers. This iterative feedback loop ensures the system is always optimized and meets the evolving needs of the business and its clientele.',\n",
              " 'In essence, while the advanced car inspection system promises a transformative leap, its success lies in thorough preparation, effective communication and a commitment to continuous learning and improvement.',\n",
              " \"And while some may mourn the loss of “personal touch” with automated inspection, the reality is that customers actually prefer it. Industry experts see contactless self-service commerce as a “new reality” not just for inspections—but for all aspects of rental, from pickup to drop off to payment. The benefits to both the customer and the rental agency are clear—and it's just a matter of time before contactless inspections become the norm, not the exception.\",\n",
              " 'Forbes Technology Council is an invitation-only community for world-class CIOs, CTOs and technology executives. Do I qualify?',\n",
              " '',\n",
              " 'The EAH-AZ40M2 are an exceptionally clear sounding true wireless earbuds with efficiency Active ... [+] Noise Canceling technology.',\n",
              " 'It’s been a busy year for Panasonic’s resurrected Technics audio brand with the launch of two new pairs of true wireless earbuds. It’s fair to say that the acclaim for the new and updated earbuds has been almost universal. Now Technics has launched a third pair of true wireless earbuds, the lightweight and more compact EAH-AZ40M2.',\n",
              " 'The EAH-AZ40M2 earbuds have new 6mm dynamic drivers and dual-hybrid Active Noise Cancelling (ANC) technology. The Technics earbuds are also the first to feature Multipoint Connection capable of connecting with up to three separate Bluetooth devices simultaneously.',\n",
              " 'Multipoint Connection lets you have up to three smartphones, tablets or computers working with the earbuds simultaneously. Switching between any of them to take a phone call or video meeting is seamless.',\n",
              " 'The Technics EAH-AZ40M2 earbuds are compact and lightweight. Colorways are Silver, Black and Rose ... [+] Gold.',\n",
              " 'Technics has used beamforming microphones in each earbud to ensure conversations are as clear as if you were using a conventional microphone in front of your mouth. Technics has included all these features with the EAH-AZ40M2 in a compact form factor at a slightly lower price than the other two models in the Technics lineup.',\n",
              " 'The 6mm dynamic driver in the EAH-AZ40M2 earbuds delivers a clear sound with plenty of width in the soundstage and a slightly lighter bass than the company’s flagship EAH-AZ80 earbuds. That’s not a criticism because what the EAH-AZ40M2 lacks in the bottom end, it more than makes up for in the midrange and treble.',\n",
              " 'To achieve the detailed sound of the EAH-AZ40M2, Technics has fashioned an acoustic control chamber in each earpiece that optimizes the airflow to provide natural-sounding vocals and other mid-ranges. And it does that perfectly.',\n",
              " 'The Technics EAH-AZ40M2 earpieces are wonderfully small and light. ',\n",
              " 'The bass on these earbuds can be heard rather than felt. That is down to the smaller 6mm dynamic drivers used in the EAH-AZ40M2. The treble frequencies focus the sound brilliantly and with minimal discernible distortion. The overall effect is an immersive and satisfying presentation that coaxes all the details from a recording, revealing loads of detail without taxing the ears.',\n",
              " 'The EAH-AZ40M2 improves on its predecessor, the EAH-AZ40, with the addition of ANC technology. A software-based digital filter coupled with a feedforward microphone does an excellent job suppressing unwanted sounds from outside. The efficiency of the ANC isn’t quite up there with the best over-the-ear ANC headphones, but I think Technics has earbud ANC cracked and delivers excellent noise canceling levels.',\n",
              " 'Technics is one of the first earbuds to support three-way Multipoint Connectivity. For example, you could listen to music on your personal phone when a business call comes on your work phone. With Multipoint Connectivity, you can switch seamlessly to your work phone and take the phone call. With three-way Multipoint you can even have your laptop connected and switch seamlessly to that for a Zoom call. The EAH-AZ40M2 earbuds support the SBC and AAC audio codecs, but there’s no support for higher resolution codecs such as aptX or LDAC.',\n",
              " 'The EAH-AZ40M2 are stored in their own charging case and the power in the earpieces and the case ... [+] offer up to 25 hours of playing time.',\n",
              " 'Technics has used two MEMS microphones in each earpiece of the EAH-AZ40M2 earbuds to zoom in on the user’s voice to isolate the conversation and to cut the unwanted noise in the surrounding environment, whether that be the chatter in a coffee shop or the hum of an HVAC unit. Beamforming technology makes for clearer phone calls and less distraction from background sounds.',\n",
              " 'Most of us listen to our earbuds in stereo, but the Technics EAH-AZ40M2 can also be used in single earbud mode, leaving one ear free to pick up ambient sound. Single-earbud use is ideal if you are interviewing someone next to you on a video call and need to hear both the online feed and what your interviewee is saying.',\n",
              " 'Using the Technics Audio Connect smartphone app, you can customize the touch controls built into each earpiece to make them perfect for single-earbud use. The controls include touch and hold, single, double and triple tap actions, which can turn the volume up or down, skip forward or backward, or even turn ANC on or off.',\n",
              " 'There are five different sizes of earths that ship with the Technics EAH-AZ40M2 so getting a good ... [+] and comfortable fit should be possible.',\n",
              " 'One feature I like about the EAH-AZ40M2 is the ambient sound modes that can be set to “Natural Ambient” or “Attention” mode. Natural Ambient Mode feeds all the surrounding sounds to your ears so you can listen to music or make a phone call while still hearing all that’s happening around you. The Attention Mode captures sounds that lie within the range of the human voice so that you can listen to people talking nearby while cutting out unwanted external noises.',\n",
              " 'A single charge of the EAH-AZ40M2 delivers up to seven hours of playtime for a single charge. With the reserve charge stored in the charging case, there are 25 hours of backup power, more than enough for two return flights across the Atlantic. With ANC turned on, the earbuds will play for up to 5.5 hours, while the charging case provides 18 hours of ANC operation. There’s no wireless charging with these earbuds, so you’ll have to use the USB-C cable supplied.',\n",
              " 'The Technics Audio Connect smartphone app offers many opportunities to customize the EAH-AZ40M2 earbuds. That includes support for voice assistants and tweaking the earbud EQ with a custom equalizer and preset tones. Regarding weather resistance, the EAH-AZ40M2 are water resistant to IPX4, which means the earbuds can withstand splashes of liquid but won’t survive a dip in the pool.',\n",
              " 'The Technics EAH-AZ40M2 are wonderfully small and slip easily into a pocket or work bag. ',\n",
              " 'The EAH-AZ40M2 are smaller and lighter than their larger siblings in the Technics earbud range. They ship with silicone earpieces in five sizes so you can achieve an efficient acoustic seal. It’s worth playing around with the different tip sizes, as the fit greatly affects the sound quality and comfort levels.',\n",
              " 'Verdict: The Technics EAH-AZ40M2 True Wireless ANC earbuds are almost as good as the more expensive EAH-AZ80 and EAH-AZ60M2. The only difference to my ears is a slightly lighter bass response, a smaller and lighter design, plus the absence of any hi-res audio codecs, which is surprising considering the price. The sound created by the EAH-AZ40M2 is wonderfully clear, with plenty of presence in the midrange and a perfectly smooth treble. These qualities make them ideal for opera, classical and acoustic music. If you want ear-splitting bass, then the EAH-AZ40M2 might not cut it for you, but for the money, they are solid performers and well worth a listen.',\n",
              " 'Pricing & Availability: The Technics EAH-AZ40M2 True Wireless ANC earbuds are available in black, silver and rose gold colorways. The price for the EAH-AZ40M2 earbuds is $169.99.',\n",
              " 'More info: www.technics.com',\n",
              " 'Tech Specs:',\n",
              " '',\n",
              " '',\n",
              " '',\n",
              " 'It is our stance at the I/O Fund that the stock market is not logical, rather it’s sentimental. There is no logical explanation for a stock to go up 100% or more —— only to fall 40% or more in the matter of a couple of months. Fundamentals do not change this quickly, but sentiment does. In the simplest terms, sentiment is driven by how fear and greed interrelate with supply and demand. However, the way to track sentiment to protect capital is much more complex and needs to combine fundamental analysis with technical analysis',\n",
              " 'This roller coaster ride is most evident in tech stocks, which happens to be our specialty. Therefore, we openly and frequently discuss with our free newsletter readers the importance of layering into a leading position, setting up buy plans ahead of time, and also the importance of taking gains once the technical and fundamentals get stretched.',\n",
              " 'TAIPEI, TAIWAN - 2023/05/29: Nvidia president and CEO Jensen Huang speaks at a keynote presentation ... [+] while holding the Grace Hopper superchip at COMPUTEX. The COMPUTEX 2023 runs from 30 May to 02 June 2023 and gathers over 1,000 exhibitors from 26 different countries with 3000 booths to display their latest products and to sign orders with foreign buyers. (Photo by Walid Berrazeg/SOPA Images/LightRocket via Getty Images)',\n",
              " 'We’ve had unwavering conviction in Nvidia’s AI story since November of 2018. In fact, it was our leading position going into 2023 and our AI allocation of 45% exceeded Stanley Druckenmiller at 29%, meanwhile, Druckenmiller was celebrated for having a leading AI portfolio. The Street is also taking credit for being early to Nvidia, which was a latecomer recommendation in March of 2023. Ark often discusses AI as a leading trend, yet almost missed this AI leader entirely. We point this out because we provided Nvidia as a stock tip for free, repeatedly, with top tier analysis delivered on Forbes and through our free newsletter, with our own capital backing the research.',\n",
              " 'The I/O Fund is a strong proponent of offering quality information at the free level. We offer top tier analysis every single week in our free newsletter, and we do not know any other top-performing portfolio that offers this at the free level in a consistent manner.',\n",
              " 'Unfortunately, free information tends to come from those who are unproven and may not be very good investors at all, while those with a proven track record keep trades close to their chest.',\n",
              " 'Not only do we actively manage every position we own and send real-time trade alerts, but we discuss openly and frequently our thoughts along the way. Our track record on Nvidia over the past 1-2 years looks like this:',\n",
              " 'Not only do we actively manage every position we own and send real-time trade alerts, but we discuss ... [+] openly and frequently our thoughts along the way. Our track record on Nvidia over the past 1-2 years looks like this.',\n",
              " 'The single biggest issue individual investors face is a lack of quality information that is early, consistent, and comes with ultimate transparency around position sizing, portfolio performance, and how to handle sell-offs.',\n",
              " 'It is this last point that we’d like to discuss with you today “how to handle sell-offs.” We were considered crazy for buying Nvidia in 2022 and we are considered crazy for trimming in 2023. Yet, in what is rare transparency for the financial world, we are sharing with you our plans with this leading portfolio position.',\n",
              " 'On August 28th, we put out our price analysis on NVDA. We offered two general scenarios that we see playing out, which are still very much in play today. Here is what we said back then…',\n",
              " '“There are two general Elliott Wave counts I’m using that represent both of these gap possibilities.',\n",
              " '',\n",
              " '',\n",
              " 'The lowest I would allow this correction to go and still keep the red count valid would be the $340 region. If we break below $340, then the odds shift that the gap from Nvidia’s last earnings call was in fact an exhaustion gap. Our next move would be to set up downward targets to accumulate Nvidia for the long haul.”',\n",
              " 'Also, in the last report, we were looking for a breakout above $480 to signal that a low was in and we were heading towards our first overhead target around $545. We did see a breakout, but it failed to hold, which was a warning of more volatility to come. This coupled with some heavy distribution volume above the $440 price level, had us decide to take more gains in Nvidia.',\n",
              " 'Real-time trade alert offered by I/O Fund',\n",
              " 'My prior analysis still holds – as long as we hold $340, Nvidia has the potential for one more swing higher into year-end/early next year. However, we do not believe current prices are ideal for a long-term, buy and hold mindset. Patience will likely pay off in the long run. So, it will be up to each investor to decide if they want to take on the risk of potentially getting one more high.',\n",
              " 'For the I/O Fund, the reward is not worth the risk which is why we have decided to trim. Our last buy at $410 in July is our last buy and we do not have any more buys planned until we see a resolution. There are two other AI-related stocks that we like better in the near-term, and when we enter these, we will notify our premium members with real-time trade alerts.',\n",
              " 'This remains my primary perspective as long as we hold the $340 support. Below there, and the top is likely in.',\n",
              " 'This remains my primary perspective as long as we hold the $340 support. Below there, and the top is ... [+] likely in.',\n",
              " 'Nvidia is a core holding of ours, so we will likely never close the position, as long as the story and tech trend remain intact. However, we do strongly believe in taking gains, reducing risk, and targeting lower levels for a better cost basis. That being said, we believe we are approaching one of these moments. Even though we broke a key trendline today, we expect a bounce to occur soon. If this bounce is a corrective bounce that fails to reclaim key overhead levels, we will trim our position even more.',\n",
              " 'Even though we broke a key trendline today, we expect a bounce to occur soon. If this bounce is a ... [+] corrective bounce that fails to reclaim key overhead levels, we will trim our position even more.',\n",
              " 'There has been an excessive level of insider selling by the CEO, Jensen Huang. So far, he has sold over $110,000,000 worth of shares over the last 3 weeks. Regarding insider activity, there are many reasons insiders sell, which may have nothing to do with the business. However, when you the see executives within a company, like the CEO, it’s worth paying attention to. Since June, we’ve seen about $175,000,000 worth of NVDA sold.',\n",
              " 'There has been an excessive level of insider selling by the CEO, Jensen Huang. So far, he has sold ... [+] over $110,000,000 worth of shares over the last 3 weeks.',\n",
              " 'In conclusion, our broad market work suggests that a complex topping process is forming. Many sectors and stocks have likely topped while some big tech names look like they have the potential for one more high into the end of the year.',\n",
              " 'Insider activity and institutional selling point toward another high being less likely. If we do get that second high, our plan is to trim more. Until the $340 support breaks, NVDA still has the potential for that last swing higher. Regardless, we believe being patient will pay off for those looking to buy a great company at a great a price. We are also being patient for when we add back to our position and feel it’s better to be defensive at the moment.',\n",
              " 'If you own Nvidia stock, or are looking to own NVDA, we encourage you to attend our weekly premium webinars, held every Thursday at 4:30 pm EST. Next week, we will discuss NVDA, as well two other AI plays that we will likely buy next – what our targets are, where we plan to buy, as well as where we plan to take gains.',\n",
              " 'I/O Fund Portfolio Manager, Knox Ridley, contributed to this analysis',\n",
              " 'Please note: The I/O Fund conducts research and draws conclusions for the company’s portfolio. We then share that information with our readers and offer real-time trade notifications. This is not a guarantee of a stock’s performance and it is not financial advice. Please consult your personal financial advisor before buying any stock in the companies mentioned in this analysis. Beth Kindig and the I/O Fund own shares in NVDA at the time of writing and may own stocks pictured in the charts.',\n",
              " 'If you would like notifications when my new articles are published, please hit the button below to \"Follow\" me.',\n",
              " '',\n",
              " 'Businessman Paying Carbon tax. GHG Payment as Environmental Fee to Reduce CO2. Greenhouse Gas Cost ... [+] of Emission or Pollution, Charged for Global Warming. Factory Pipe Emitting Toxic Smoke',\n",
              " 'Pricing our global greenhouse gas emissions isn’t the only answer to addressing climate change, but it’s a requirement for any serious climate plan. And large parts of the world have stepped up, including most of Europe, big parts of North America and China. 39 countries and 33 sub-national jurisdictions have a carbon price.',\n",
              " 'Let’s look back a bit to a prescient economist, Arthur Pigou of Britain. His insight was that while markets were great at making things efficient and cheaper, transaction costs didn’t include everything. His focus was on those externalities. Some externalities are positive, which is why so many airports keep being funded by cities even though they operate at a loss. The city’s business and tourism increases are positive externalities.',\n",
              " 'But a lot of externalities are negative. They have varying degrees of unpleasant impacts on people, society or the environment. Pigou came up with the quintessentially conservative approach to dealing with those impacts, which was to add them to the transaction cost and let the market sort out the rest. Pigouvian taxes have been applied to many different things in our society, including tobacco and alcohol products.',\n",
              " 'The logic for applying them to the negative externalities of greenhouse gas emissions is clear, aligned with conservative economic principles as well as the market economics of the vast majority of the world and has an excellent history of precedents to draw upon. This is, of course, why the large greenhouse gas emitters tend to fight tooth and nail against pricing carbon. It’s also why purportedly economically conservative politicians are bending over backward to pretend that a conservative economic policy is actually not fiscally conservative in many parts of the world.',\n",
              " 'What’s an appropriate price for carbon? That’s a difficult question to answer for a few of reasons, but we have a good answer regardless.',\n",
              " 'The first tough question is where the box gets drawn around the impacts. It’s an arguable position to say that only the impacts on the jurisdiction itself should be in the price. It’s a bad argument because the impacts are global while the benefits are local, but it’s an argument which has allowed those opposed to carbon pricing to delay or prevent one from being adopted.',\n",
              " 'The appropriate boundaries are global, which is the second part of why this is difficult. How do you calculate the impacts of something which occurs on the other side of the planet to people living on a small island in the Pacific? That’s why a very large number of people have spent a lot of time figuring out the social cost of carbon in multiple countries.',\n",
              " 'What’s the social cost of carbon? The generally accepted definition is that it’s the future global impact cost assessment of a single ton of carbon dioxide emitted today. Unsurprisingly, it goes up every year in most assessments.',\n",
              " '“Generally accepted definition” is the next part of the problem. Most major countries have developed their own definition, including what should be included and exclude and what process and quality controls are applied to the cost. That’s changing as countries align their definitions. Canada’s current social cost of carbon is US$194. The USA’s is currently US$51, but the Environmental Protection Agency and Canada recently aligned their methodologies, so the EPA is proposing raising it to US$190. Australia hasn’t adopted a national social cost of carbon, but its national capital territory (roughly equivalent to Washington, DC) has chosen a cost per ton of US$13.',\n",
              " 'The “carbon” part of the term is also a clue to the challenges. Carbon dioxide is the primary greenhouse gas we’ve been emitting globally for a long time, but it’s far from the only one. Natural gas is mostly methane which is a much more potent but shorter lived greenhouse gas. Most of the refrigerants in our air conditioners, heat pumps and freezers are greenhouse gases, and while they are much lower in absolutely quantities, they are almost all thousands of times more potent and also persist a long time in the atmosphere. Nitrous oxides which form when ammonia fertilizers are used among other sources is also a potent greenhouse gas.',\n",
              " 'There are other wrinkles. What discounting rate for money should you assume? Which of the heavily lobbied and hence very conservative IPCC warming and impact scenarios should be considered as the baseline? The complexities of drawing the right boundaries and the importance to very rich organizations and individuals in numerous countries of not getting to end of job means that we have spent far too long figuring out what the numbers should be.',\n",
              " 'Let’s return to the actual carbon prices that have been implemented as a comparison to the social cost. Canada has a reasonable carbon pricing program, one which steadily increases and allows its provinces to choose their own approach as long as they match the cost and benefits. The carbon price is currently US$48, and it’s a greenhouse gas price, so it includes methane and refrigerants.',\n",
              " 'Sharp eyes will note that it’s about a quarter of the social cost of carbon. By 2030, it will be US$126 but the social cost of carbon will be US$219, still a lot higher. California’s cap and trade system, which eleven US states and two Canadian provinces are part of, is only at US$36. China’s new cap and trade system is pricing carbon at US$10 per ton, and still excludes more goods and services than more mature systems.',\n",
              " 'And that’s the next problem. Political will to implement carbon pricing is low in the majority of countries in the world, although given California, Europe, China and Canada’s involvement as major economies, the World Bank estimates that 23% of greenhouse gas emissions are currently at least covered under a carbon price, if not an adequate one.',\n",
              " 'The USA’s lack of a national carbon price is a clear example. One was brought forward under the current administration as an anti-China carbon border adjustment mechanism that incidentally applied to all domestic economic activities, but it didn’t even make it to a vote. Australia had a carbon price, but the right-wing coalition that took power a decade ago campaigned on eliminating it, and proceeded to quickly fulfill that regressive promise.',\n",
              " 'However, the USA’s failure was interesting because of the “border adjustment” part of it. That’s a carbon price that applies to imports, in part to ensure that domestic goods and services aren’t rendered uncompetitive against high-carbon foreign competitors. While the USA was unable to garner sufficient support even inside the Democratic Party for the measure, the European Union is moving forward with one.',\n",
              " 'The EU is the third largest economy on the planet. It’s a major trading partner with virtually every country in the world. Everyone exporting to it now has to report on the carbon embodied in their products, and in 2026 they are required to pay the same amount as a European firm would under the emissions trading scheme. The ETS is currently pricing carbon at about US$88 per ton and peaked at US$107 this year. It’s expected to maintain and increase its price.',\n",
              " 'The ETS has historically excluded non-carbon greenhouse gases, but it’s including methane and nitrous oxide as of 2026 as well. It’s one of the most inclusive, highest-priced carbon pricing approaches in the world. And now everyone who exports to the EU will be paying it. That said, the current price is still less than half of the social cost of carbon.',\n",
              " 'And that’s why pricing carbon isn’t the only lever we have to pull to deal with climate change. It’s an essential broom that will get in a lot of corners, but it’s patchy globally, and priced too low and increasing too slowly where it is applied. Aggressively shutting down high-emissions electrical generation while rapidly building renewables as separate policies with separate carrots and sticks while rapidly pricing carbon higher are all on the list of climate actions that will work.',\n",
              " 'As a reminder, here’s the short list:',\n",
              " '',\n",
              " '',\n",
              " '',\n",
              " 'Tecno Phantom V Flip',\n",
              " 'For a decade, Chinese smartphone brand Tecno (along with sister-brand Infinix) ruled the Africa smartphone scene, selling low priced smartphones to an underserved market. But beginning last year, both Tecno and Infinix began a rapid expansion plan, one that would see each brand branch out of Africa and sell more premium devices to higher-spending markets like Dubai, India and Malaysia.',\n",
              " 'While Infinix has released a couple of eye-catching mid-range releases this summer, it appears Tecno is the brand that’s been given the green light to go into the premium space. After launching its first flagship phone last December and then following up with a surprisingly solid large foldable phone at the Mobile World Congress this February, Tecno is back with its second foldable phone, a flip style phone named the Phantom V Flip.',\n",
              " 'Tecno Phantom V Flip',\n",
              " 'To go from an obscure brand mostly unknown in the global phone scene to releasing two foldable phones within a single year is impressive. What’s perhaps even more impressive is that despite the Phantom V Flip being “pricey” compared to Tecno’s previous products, it is going to be the most affordable clamshell foldable phone in the market by some distance.',\n",
              " 'While I don’t have final retail pricing at the time of this writing, I have good information that the Tecno Phantom V Flip will start with an early bird price equivalent to around $650 in India and other markets in Southeast Asia. This is by far the lowest price a foldable phone has ever been (Samsung’s flip phone, for example, sells for $999).',\n",
              " 'The Tecno Phantom V Flip runs Android 13. ',\n",
              " 'And after using the phone for a a week and a half, I think the Tecno Phantom V Flip punches way above its price class. By no means is the phone perfect, and it isn’t going to beat Samsung’s flip phone anytime soon in head-to-head comparisons, but at this much lower price point, there’s so much to like.',\n",
              " 'Premium presentation',\n",
              " 'The Tecno Phantom in its packaging',\n",
              " 'The Tecno Phantom V Flip comes in a very nice packaging that includes not just a 45W charger, but a well-made protective case. The box itself has patterns and textures—from the get go, this phone makes a great impression.',\n",
              " 'The Tecno packaging ',\n",
              " 'When I took out the phone, I said an audible “whoa” at the device’s leather finish. It’s obviously vegan leather, but it’s well crafted, with stitching that provides tangible tactile texture. There’s also a purple unit that comes in a glass finish, but I am glad I got the black leather version.',\n",
              " 'The leather finish of the phone. ',\n",
              " 'The hinge is well built, with the device able to stay in place mid-fold. I also like that the hinge corners are rounded and not pointy like Samsung’s hinge, making for a more comfortable in-hand feel.',\n",
              " 'The rounded hinge corner. ',\n",
              " 'Displays',\n",
              " 'Open up the phone and there’s 6.9-inch 120Hz OLED screen with only a very faint crease at the folding point. The display looks vivid and held up well next to the iPhone 14 Pro Max’s screen.',\n",
              " 'The Tecno Phantom V Flip next to the iPhone 14 Pro Max. ',\n",
              " 'But of course, this being a flip phone, it’s the outside screen that’s more attention worthy: the 1.9-inch panel is in a circular shape, which creates quite a visually striking look. However, compared to recent flip phones from Samsung and Motorola, whose outer screen can run entire apps, the outside screen here is limited, able to show only widgets.',\n",
              " 'The outside screen of the V flip. ',\n",
              " 'Cameras',\n",
              " 'While the widgets look visually pleasing with vibrant colors and whimsical animations, I still prefer to be able to just run full apps. The screen can be used as a viewfinder, so users can place the phone in a laptop shape on a table and take hands-free selfies.',\n",
              " 'The outside screen. ',\n",
              " 'The camera system is headlined by a 64-megapixel main camera using an RGWB sensor. This differs from traditional RGGB sensors, as Tecno’s camera has an extra white filter array. Tecno says this allows the camera to take in more light.',\n",
              " 'From my testing, I found the Phantom V Flip’s main camera to be quite good for a small foldable phone. Colors are accurate, white balance is on point, details are respectable. But it isn’t beating the best flip phone cameras on the market from the likes of Samsung or Oppo. The shutter speed is slow, and there’s major lens flare in night shots.',\n",
              " 'An image snapped with the Tecno Phantom V Flip',\n",
              " 'Sample image',\n",
              " \"There's quite a bit of lens flare. \",\n",
              " 'I am also impressed by the camera’s ability to do human eye-tracking. This helped the phone produce sharp photos.',\n",
              " 'There’s also a 32-megapixel selfie camera on the main screen, but I find it redundant, as users can just snap selfies with the main camera using the outer display. The ultra-wide camera is below par, but given the price point, I don’t have many complaints.',\n",
              " 'Internals and other bits',\n",
              " 'The Phantom V Flip',\n",
              " 'The chip inside is a MediaTek Dimensity 8050, a 6nm octa-core CPU with four performance Arm Cortex-A78 chip. It was only announced in May, so it’s a new chip, and plenty capable. But it’s not going to beat the Qualcomm Snapdragon chips powering other foldable phones from other brands. But again, factoring in the pricing, and the performance to price ratio tips in Tecno’s favor.',\n",
              " 'There’s a 4,000 mAh battery which I find to be fine. The phone isn’t going to last a full day for heavy users, but for the average person, it’s enough. And there’s a fast charger included.',\n",
              " 'Overall, is the Tecno Phantom V Flip the best flip foldable phone I’ve tested? No. Other flip foldables have a more usable outside screen and better camera system overall, but I think the Tecno Phantom V Flip wins in price and design materials.',\n",
              " '',\n",
              " 'Siim Starke, co-founder of Vok Bikes.',\n",
              " 'The opening up of New York City as a market for larger cargo e-bikes could present a massive opportunity for start-ups on the other side of the Atlantic.',\n",
              " 'That’s according to Vok Bikes, an Estonian e-bike maker that is keeping a close eye on potential changes to road rules in New York around cargo bikes.',\n",
              " 'Siim Starke, co-founder and product lead, said that while the young start-up, which makes four-wheel electric cargo bikes for last-mile delivery, is currently serving the European market, it is keen to enter the U.S. market eventually.',\n",
              " 'City officials in New York recently held a hearing to thrash out possible changes to rules in the city that would allow for four-wheel bikes, like the ones made by Vok, to be used in cycle lanes. The four-wheelers are used by delivery and logistics companies to carry out last-mile deliveries rather than trucks and vans.',\n",
              " 'Makers of these bikes tout them as greener options that will help reduce congestion.',\n",
              " '\"An interesting market that will open up soon is New York. They are [potentially] allowing four-wheel bikes on the bike lanes, before they were banned or they didn\\'t count as bicycles and they\\'re also putting huge charges on congestion for vans,\" Starke said.',\n",
              " 'New York, like several other major cities, has introduced congestion charges to try and stem emissions.',\n",
              " 'Cargo e-bikes are appealing to businesses in large cities that need to move goods around daily, Starke said.',\n",
              " '\"If you\\'re a business owner, let’s say a laundry service and you have X amount of laundry that you need to deliver to other businesses daily and have a bunch of vans going in and out of the city and every day you need to pay [congestion charges], that’s quite huge. That\\'s making the companies think OK, what are the other options?\"',\n",
              " 'Current rules in New York don’t allow for four-wheel bikes and place restrictions on how wide a bike and its cargo can be if it is to use a bike lane. This is not the first time that New York has tinkered with cargo bike rules. The city’s Department of Transport launched the Commercial Cargo Bike Pilot program in late 2019 for parcel delivery couriers.',\n",
              " 'Vok, which raised €3.8 million ($4 million) in funding earlier this year, is a smaller player in the scene but New York opening up as a viable market for it and other e-bike start-ups in Europe would be significant in their efforts to enter the U.S. market.',\n",
              " 'Currently Vok’s biggest markets are the U.K., Germany and its native Estonia where the national mail service is using its bikes in part of its fleet.',\n",
              " 'In the meantime, the company plans to ramp up its business in the U.K. where it is eyeing a bid to provide the Royal Mail with cargo bikes.',\n",
              " 'Starke said that Vok’s customers are primarily postal services and delivery businesses.',\n",
              " '\"They\\'re all searching for solutions to become greener and some are doing it for the image and others really do care. There are companies who really see the benefits of it after testing [the bikes],\" he said.',\n",
              " '\"Usually they start with a few. We have been lucky in that all the clients we have managed to get, they are ordering more after having it for one year. They\\'re ordering more and slowly growing and then there are large companies who are also in a phase of switching their logistics to more cargo bikes.\"',\n",
              " '',\n",
              " 'Generative AI has the potential to revolutionize every creative industry, and the gaming industry is no exception. Game worlds are getting richer, more immersive, and in many ways closer to being simulations of our own \"real\" world. This means that the cost and the size of the teams needed to build them are skyrocketing, too.',\n",
              " 'Generative AI Is Breathing New Life Into Classic Computer Games',\n",
              " 'Generative AI tools – large language models like GPT-4 and image generation algorithms like Dall-E 2 – can help by taking the strain off artists and designers, creating thousands of unique assets with subtle differences. These assets could be the locations, objects, characters and adversaries that make up the game world.',\n",
              " \"Here's an example. Stroll through a forest in even a very recent video game, and if you pay attention, you might start to notice that there’s only a small number of individual tree models. After a while, they start repeating, and you see the same trees in different locations.\",\n",
              " \"While the game's job is to keep you entertained and engaged in the action or storyline so you don't notice these technical limitations, when you do, it's jarring and immediately breaks the suspension of disbelief created by the game.\",\n",
              " 'With generative AI, a forest might be populated by thousands of completely unique trees and home to the same diversity of critters and creepy crawlies as a real stretch of woodland.',\n",
              " '',\n",
              " 'Revolution Software',\n",
              " 'That’s a likely scenario for game design in the near future, but here’s an example of generative AI in use today.',\n",
              " 'Revolution Software is a UK game developer that scored a big hit with the Broken Sword series of adventure games in the 1990s - before the days of multiplayer online gaming and photorealistic 3D graphics.',\n",
              " 'Since then, it’s taken a different path than many studios of the time, which either expanded into multimedia production powerhouses to cope with the increasing cost and complexity of game design or didn’t and went bust – or got subsumed into others that did.',\n",
              " 'According to Polygon, Revolution has retained its small-team structure and mainly supported itself with sequels and re-issues in the Broken Sword series.',\n",
              " 'When making plans to update the first games in the series to enable them to work on the latest generation of game consoles and PCs, the studio hit a problem. The old graphics were all scaled to fit the far lower-resolution displays that were in use back then. As they were hand-drawn artworks, recreating all of them at the resolution expected by gamers today on their Ultra HD displays would be prohibitively expensive.',\n",
              " 'Studio founder Charles Cecil connected with generative AI researchers at the University of York, who were able to take a few sample pieces of art designed for a modern-day update and use them to train a generative adversarial network (GAN).',\n",
              " 'After getting some help fine-tuning the model from an Nvidia engineer, the result was a generative AI model capable of creating one piece of in-game artwork, such as an object or character, in five to 10 minutes.',\n",
              " 'Human artists are then used to retouch the AI-generated art, focusing particularly on hands and faces (the places where, as many have noted, imperfections are most likely to occur in AI-generated images of people!)',\n",
              " 'This made the studio’s plans to bring the much-loved games to a new generation of modern-day gamers economically feasible.',\n",
              " 'As Cecil said, “The ability to use AI … is an absolute game changer … [without it] we just couldn’t afford to do it.',\n",
              " '“It really is, you know, allowing very talented character artists and animators to take the original and mold it into something really special, rather than having to go through the drudgery of redrawing everything.”',\n",
              " '',\n",
              " 'Automating the Mundane Aspects of Creativity',\n",
              " 'As in other industries, the most exciting applications of generative AI might seem slightly mundane, considering the hype and glamor being built up around AI.',\n",
              " 'But the real magic doesn’t lie in the thousands of very similar images it can churn out at rapid speeds. Rather, it’s about what the artists and designers can do with their time once they’re freed from the “drudgery”!',\n",
              " 'There are a number of other ways that I can foresee generative AI causing a stir in the games industry.',\n",
              " 'In the near future, it may be possible to meet and interact with characters in-game that behave and converse far more naturally than we’re used to today. NVidia’s Avatar Cloud Engine (ACE) is intended to let game designers put characters with generative AI-driven personalities into their creations.',\n",
              " 'It could also be used to create dynamic storylines. Stories could adjust more flexibly to deal with individual player choices, creating more personalized experiences than would be possible using only human writers. ChatGPT, for example, can be instructed to create games with ongoing AI-generated storylines using only simple prompts.',\n",
              " 'It can also be used for automated testing – creating legions of simulated players, all playing the game in different ways in line with their AI-generated play styles and personalities. This means game developers can quickly work out what play styles are likely to lead to less satisfying gaming experiences and adapt their products accordingly.',\n",
              " 'It could even be used for dynamically-generated voiceovers, enabling characters to speak their lines and maintain the way they sound, even when the player forces them to go off-script.',\n",
              " '',\n",
              " 'What Does This Mean for Game Design and Game Designers?',\n",
              " 'It’s very exciting to imagine that small, independent studios will be able to harness the power of generative AI in order to make games that would otherwise require much larger teams and a huge outlay of money.',\n",
              " 'At the same time, the industry must take care to manage the impact that these emerging technologies will have on human jobs. A small studio can’t really be blamed for wanting to use AI to create a game that would otherwise be out of its league. Many might say, however, that a larger studio has a duty of care to the creatives it employs to ensure they aren’t made redundant by machines.',\n",
              " 'My own opinion is that it goes beyond a duty of care, though, and there are sound business reasons for humans to be kept in the mix.',\n",
              " 'Some are intangible but nevertheless undeniable – such as the fact that AI simply isn’t capable of recreating the “spark” of human ingenuity and creative nuance. Or that an AI’s lack of emotional intelligence means it’s unlikely to create in a way that resonates with us on an emotional level.',\n",
              " 'Others are very practical. For example, we’ve all seen that generative AI has the potential to hallucinate, creating in a way that deviates wildly from what its user intended. This can even result in output that’s hateful, discriminatory or in other ways harmful. Without human oversight and expertise at mitigating this in a way that’s relevant to creativity, it could spell disaster for a company going all-in on AI.',\n",
              " '',\n",
              " 'Read more about these topics in my book, The Future Internet: How the Metaverse, Web 3.0, and Blockchain Will Transform Business and Society and ‘Business Trends in Practice, which won the 2022 Business Book of the Year award. And don’t forget to subscribe to my newsletter and follow me on X (Twitter), LinkedIn, and YouTube for more on the future trends in business and technology.',\n",
              " '',\n",
              " 'Management, 2023 Style. More human, more data-driven.',\n",
              " 'For decades, there were well-understood paths and processes for advancing up the career ladder to management ranks. Get the right training, get to know the right people, treat the people working for you fairly, and understand your area of the business. Now, artificial intelligence is upending the tried-and-true rules of management — with a surprisingly non-technical bent.',\n",
              " 'Becoming a successful manager in the coming AI era demands two things: more people-management skills, coupled with an ability to marshal AI resources to areas where they are needed. In light of this encroaching advance of AI, it’s time for executives and professionals to re-direct their career paths.',\n",
              " 'People First',\n",
              " 'First, there’s the growing understanding that more AI means more demand for people skills, not less. With more AI on the scene, “management skills will shift to leadership through the context of those more human-oriented skills,” says Frank Diana, futurist with Tata Consultancy Services. “If machines are dealing with the bulk of what businesses do today, then leadership, people skills and true creativity become vital.”',\n",
              " 'At the same time, traditional layers of management — charged with sending information and data up and down the line — will be rendered obsolete, Diana says. “Clearly, if nothing else, the last year has exposed the potential of AI for knowledge-working to people all over the world. The layers that we see in our organizations today will never, ever survive this era. AI’s role in enabling sense and respond is going to eliminate the need for a lot of organizational hierarchies.”',\n",
              " '“AI will eliminate most of the mundane day to day tasks that managers and employees spend the majority of their time doing,” predicts Alexa Eden, wellness consultant and formerly humane technologist with AlgoAI Tech.',\n",
              " 'There are specific skills that will make for the successful employee or manager in the AI age, such as “intuitive learning, empathy, energy management, and awareness,” says Eden. “Learning to read between the lines, among people, processes, and problems, will be the secret sauce for all successful professionals in the future.”',\n",
              " 'To build careers and skills “for a future where knowledge exists in an automated, democratized manner, we must increasingly nurture those human skills that make us distinctly human,” says Diana. This consists of “critical thinking, problem solving, empathy, innovative thought, and entrepreneurial spirit.”',\n",
              " 'Look across the practice areas of HR, finance, sales, marketing, operations, customer success, and engineering, “you can pretty easily pick at least two or three use cases for each that will be facilitated by AI tools,” says Robinson. “Managers should think about how they can enable their teams to comfortably and safely use AI technology without worrying about infosec and privacy issues.”',\n",
              " 'Importantly, managers of today and tomorrow need to understand the implications of AI on the career aspirations of their team members. “Every working professional will eventually be impacted by AI,” Eden predicts. Fields that will be augmented by AI include those “that analyze and aggregate massive data,” she continues. Examples include data analytics, actuaries, SEO specialists, marketing professionals, legal teams, contract managers, and trading desks. “AI will be able to track, follow, and predict certain trends that the human mind, and eye takes too long to do.”',\n",
              " 'Even lawyers and doctors will be freed to focus on higher-value tasks, Diana says. “In the case of a doctor, where a lot of their tasks are automated, they can spend more time with patients and allow the compassion and empathy side of what makes us human play a much more effective role in that world.”',\n",
              " 'Professionals in these data-intensive occupations “will want to prepare by learning to adapt, learn from, and train AI language model systems to work better for them, and seek out the specifics of what they are looking for,” says Eden.',\n",
              " 'What Managers Need to Know About AI',\n",
              " 'Managers won’t have to have algorithm development skills, but will be expected to have a high-level understanding of the implications of AI to their operations and organizations. \"AI is challenging professionals across all occupations to redirect their skills to be more adaptive, analytical, data-driven, and cross disciplinary,\" says Joe Robinson, co-founder and CEO of Hummingbird. \"They must be up to date on the latest trends from multiple angles – business, legal, privacy, information security, and so on. For example, how is AI being implemented, what are the capabilities and limitations of AI, and what are the regulations that are currently being put in place? Only with this knowledge can professionals and managers assess when and where to apply AI.\"',\n",
              " 'This doesn’t necessarily require extensive coursework in technical skills, but rather, an emphasis on the creative skills that ultimately move businesses forward. “Investing heavily in soft skill development human intelligence, creative strategy, collaborative solutions, and intuitive decision making will help the professionals of the future thrive,” Eden says.',\n",
              " 'Non-technical managers and employees “shouldn’t break their heads over developing technical skills, but I would suggest that they learn the basics so they can find, hire, communicate, and manage and direct their technical leads with a sharp awareness.” They should still “learn the basics of code, language models, and neural networks so they can learn the universal language of programming — the more AI we introduce into our daily processes, the more we will need to partner with AI to ensure our solutions,” Eden says.',\n",
              " 'Ultimately, success as a manager in this era “is about filling the gaps AI cannot fill and use it to your advantage in the workplace,” says Robinson. “There will potentially be new job roles and careers focusing on both the development of the technology as well as managing and optimizing AI systems for the end users.”',\n",
              " 'Overall, Eden is feeling positive about the future of management and professional careers in the age of AI. “AI will help alleviate the tasks; managers will help elevate the humans,” she relates. “AI is here for a reason, and as long as we embrace it, are intentional with it, smart, and careful with its deployment, we will reap its benefits.”',\n",
              " '',\n",
              " \"How to solve today's Wordle.\",\n",
              " 'It’s Friday and that means a few things:',\n",
              " '',\n",
              " '',\n",
              " 'It’s always a little sad to see summer go, but there’s something comforting and lovely about the first chilly evenings, sweater weather, soup and hot apple cider. Early Halloween displays at the big box stores. Everything—and I mean everything—suddenly pumpkin spice flavored.',\n",
              " 'In any case, let’s do this last summer Wordle, shall we?',\n",
              " '.',\n",
              " '.',\n",
              " '.',\n",
              " \"Today's Wordle\",\n",
              " 'After each Wordle I solve I head over to the Wordle Bot homepage to see how my guessing game was.',\n",
              " 'I wasn’t actually expecting my opening guess to work. I was starting to type out techie but obviously that’s too many letters but instead of deleting I just popped a ‘Y’ in there instead. It’s also a Scrabble word, it turns out, and doesn’t mean techie, but rather someone who is easily irritated or annoyed.',\n",
              " 'This slashed the 2,300-something words remaining down to just 78, and laugh gave me two green boxes and just three words to choose from, though I could only think of brush and shush. I took a gamble and got the right answer. Huzzah!',\n",
              " 'I get 1 point for guessing in three and 0 for tying the Bot. 1 x 2 for 2XP Friday = 2 points. Double huzzah!',\n",
              " 'The word \"brush\" has an interesting etymology. It can be traced back to Old English, where it was originally spelled as \"bros,\" \"brus,\" or \"bruss,\" and it meant a device with stiff bristles or fibers used for various purposes like cleaning, grooming, or painting. The word \"brush\" in this sense had a similar meaning in Old High German (\"brust\") and Old Norse (\"burst\"), which suggests a common Germanic origin.',\n",
              " 'The exact origin of the word beyond the Germanic languages is not entirely clear, but some linguists believe it may have roots in Proto-Indo-European. The word \"brush\" is related to other Germanic words like the Old English \"brysan\" (to rub) and Middle Dutch \"borse\" (a brush), which also have similar meanings. These words are thought to have evolved from a common ancestral word in Proto-Germanic.',\n",
              " 'Over time, the word \"brush\" evolved in English to refer specifically to a tool with bristles or fibers used for various purposes, such as cleaning, painting, or grooming. Today, \"brush\" can refer to a wide range of objects and activities associated with bristles or fibers, and it has become a versatile and commonly used word in the English language.',\n",
              " 'I’ve been playing a cutthroat game of PvP Wordle against my nemesis Wordle But. Now you should play against me! I can be your nemesis! (And your helpful Wordle guide, of course). You can also play against the Bot if you have a New York Times subscription.',\n",
              " '',\n",
              " '',\n",
              " 'You can either keep a running tally of your score if that’s your jam or just play day-to-day if you prefer.',\n",
              " 'You can follow me and reach me via Threads, Twitter and Facebook. Also be sure to subscribe to my YouTube channel and follow me here on this blog. You can also sign up for my Substack newsletter diabolical where I cover a wide array of topics from art to politics.',\n",
              " '']"
            ]
          },
          "metadata": {},
          "execution_count": 110
        }
      ],
      "source": [
        "import requests as r\n",
        "from bs4 import BeautifulSoup\n",
        "import pandas as pd\n",
        "\n",
        "i=0\n",
        "url = \"https://www.forbes.com/innovation/?sh=78a7453c6834\"\n",
        "\n",
        "linklist = []\n",
        "data = []\n",
        "\n",
        "content1 = r.get(url)\n",
        "soup1 = BeautifulSoup(content1.content, 'html.parser')\n",
        "links = soup1.select('a._5ncu0TWl')\n",
        "for link in links:\n",
        "  linklist.append(link['href'])\n",
        "\n",
        "for i in range(0,9):\n",
        "  print(\"Parsing document - \", i)\n",
        "  content2 = r.get(linklist[i])\n",
        "  soup2 = BeautifulSoup(content2.content, 'html.parser')\n",
        "  articles = soup2.select('p')\n",
        "  for article in articles:\n",
        "    data.append(article.text)\n",
        "\n",
        "data"
      ]
    },
    {
      "cell_type": "markdown",
      "source": [
        "## Data Cleaning and PreProcessing"
      ],
      "metadata": {
        "id": "sNTF-ErLWPK8"
      }
    },
    {
      "cell_type": "code",
      "source": [
        "for i in range(0,len(data)-1):\n",
        "  #Nullifying Small Articles\n",
        "  if(len(data[i])<500):\n",
        "    data[i]=\"\"\n",
        "  print(len(data[i]))\n",
        "# Removing Null values\n",
        "data = list(filter(None,data))\n"
      ],
      "metadata": {
        "colab": {
          "base_uri": "https://localhost:8080/"
        },
        "id": "h9YsNnekWScu",
        "outputId": "d60e429e-9026-4165-ecbd-1b85e4cb69f0"
      },
      "execution_count": 112,
      "outputs": [
        {
          "output_type": "stream",
          "name": "stdout",
          "text": [
            "654\n",
            "572\n",
            "690\n",
            "598\n",
            "652\n",
            "539\n",
            "660\n",
            "530\n",
            "674\n",
            "509\n",
            "578\n",
            "669\n",
            "642\n",
            "572\n",
            "763\n"
          ]
        }
      ]
    },
    {
      "cell_type": "code",
      "source": [
        "\n",
        "# Preprocessing Starts\n",
        "import re\n",
        "from wordcloud import STOPWORDS\n",
        "\n",
        "for i in range(0,len(data)-1):\n",
        "  # Lowercase\n",
        "  data[i] = data[i].lower()\n",
        "  # Remove Punctuation\n",
        "  # data[i] = data[i].replace('.','')\n",
        "  data[i] = data[i].replace(',','')\n",
        "  data[i] = data[i].replace('!','')\n",
        "  data[i] = data[i].replace('$','')\n",
        "  print(data[i])\n"
      ],
      "metadata": {
        "colab": {
          "base_uri": "https://localhost:8080/"
        },
        "id": "_pNmyPADzrL9",
        "outputId": "442bfb93-d24d-4af0-939b-f940ed876ba8"
      },
      "execution_count": 113,
      "outputs": [
        {
          "output_type": "stream",
          "name": "stdout",
          "text": [
            "but technology to the rescue: using digital tools augmented reality computer vision technology artificial intelligence and automation customers can be assured of a fair bill when they return a vehicle and companies can make sure they are treating customers fairly and honestly. this technology in fact enables companies to set up contactless returns—where customers simply drop off vehicles and are immediately informed about charges for damage if any—payable either by them or insurance companies. perhaps even more importantly it brings us closer to eliminating uncertainty about whether or not damage occurred during a rental agreement or not.\n",
            "the key to this industry innovation is the deployment of an automated inspection technology that utilizes advanced vision scanning vehicles when they are rented out and when they are returned. the images taken upon return are compared to the images of the vehicle taken before it was rented. any major damage or large scratches will of course be visible immediately—but using ai you can scan any part of the vehicle to determine if it was in any kind of an accident or sustained even minor exterior damage of any kind—on body panels trim parts wheels bumpers or roof.\n",
            "images could be taken by stationary cameras at a return facility at the agency—at a special airport dropoff point for example. but with today's sophisticated smartphones—which feature advanced cameras—customers could also simply snap photos of the vehicle and upload them to the rental agency's servers where the analysis would take place. augmented reality could help guide the user to scan the car correctly and capture the best images. thus the customer would save even more time—just dropping off the vehicle without having to wait even the few minutes it would take to analyze the vehicle's images at the dropoff point. that dropoff option could enable painless quick dropoffs 24/7.\n",
            "advanced image analysis isn't just about better customer relations; it can help agencies in other ways. with business dropping to near-zero levels at the beginning of the pandemic companies sold off much of their fleets in 2020 and 2021 expecting to buy new vehicles when things rebounded. but supply chain issues put a dent in vehicle manufacturing—and when trying to restock companies faced the same shortages everyone else did. but with demand rising again companies did the next best thing—keeping their older vehicles and servicing them instead of selling them off as they had in the past.\n",
            "as a result many rental vehicles on the road have experienced considerable wear and tear—and companies that want to ensure that their customers have a nice vehicle and don't break down in the middle of nowhere need to do a very thorough analysis of all parts of the car including the exterior thus ensuring the vehicle's physical integrity when it's on the road. using this technology however drivers can do an inspection “check-in” on a regular basis with the data uploaded to the agency which can remain assured that its vehicle is still roadworthy. with these inspection systems drivers can also return rentals in a quick contactless manner.\n",
            "technics is one of the first earbuds to support three-way multipoint connectivity. for example you could listen to music on your personal phone when a business call comes on your work phone. with multipoint connectivity you can switch seamlessly to your work phone and take the phone call. with three-way multipoint you can even have your laptop connected and switch seamlessly to that for a zoom call. the eah-az40m2 earbuds support the sbc and aac audio codecs but there’s no support for higher resolution codecs such as aptx or ldac.\n",
            "verdict: the technics eah-az40m2 true wireless anc earbuds are almost as good as the more expensive eah-az80 and eah-az60m2. the only difference to my ears is a slightly lighter bass response a smaller and lighter design plus the absence of any hi-res audio codecs which is surprising considering the price. the sound created by the eah-az40m2 is wonderfully clear with plenty of presence in the midrange and a perfectly smooth treble. these qualities make them ideal for opera classical and acoustic music. if you want ear-splitting bass then the eah-az40m2 might not cut it for you but for the money they are solid performers and well worth a listen.\n",
            "it is our stance at the i/o fund that the stock market is not logical rather it’s sentimental. there is no logical explanation for a stock to go up 100% or more —— only to fall 40% or more in the matter of a couple of months. fundamentals do not change this quickly but sentiment does. in the simplest terms sentiment is driven by how fear and greed interrelate with supply and demand. however the way to track sentiment to protect capital is much more complex and needs to combine fundamental analysis with technical analysis\n",
            "we’ve had unwavering conviction in nvidia’s ai story since november of 2018. in fact it was our leading position going into 2023 and our ai allocation of 45% exceeded stanley druckenmiller at 29% meanwhile druckenmiller was celebrated for having a leading ai portfolio. the street is also taking credit for being early to nvidia which was a latecomer recommendation in march of 2023. ark often discusses ai as a leading trend yet almost missed this ai leader entirely. we point this out because we provided nvidia as a stock tip for free repeatedly with top tier analysis delivered on forbes and through our free newsletter with our own capital backing the research.\n",
            "nvidia is a core holding of ours so we will likely never close the position as long as the story and tech trend remain intact. however we do strongly believe in taking gains reducing risk and targeting lower levels for a better cost basis. that being said we believe we are approaching one of these moments. even though we broke a key trendline today we expect a bounce to occur soon. if this bounce is a corrective bounce that fails to reclaim key overhead levels we will trim our position even more.\n",
            "the logic for applying them to the negative externalities of greenhouse gas emissions is clear aligned with conservative economic principles as well as the market economics of the vast majority of the world and has an excellent history of precedents to draw upon. this is of course why the large greenhouse gas emitters tend to fight tooth and nail against pricing carbon. it’s also why purportedly economically conservative politicians are bending over backward to pretend that a conservative economic policy is actually not fiscally conservative in many parts of the world.\n",
            "“generally accepted definition” is the next part of the problem. most major countries have developed their own definition including what should be included and exclude and what process and quality controls are applied to the cost. that’s changing as countries align their definitions. canada’s current social cost of carbon is us194. the usa’s is currently us51 but the environmental protection agency and canada recently aligned their methodologies so the epa is proposing raising it to us190. australia hasn’t adopted a national social cost of carbon but its national capital territory (roughly equivalent to washington dc) has chosen a cost per ton of us13.\n",
            "the “carbon” part of the term is also a clue to the challenges. carbon dioxide is the primary greenhouse gas we’ve been emitting globally for a long time but it’s far from the only one. natural gas is mostly methane which is a much more potent but shorter lived greenhouse gas. most of the refrigerants in our air conditioners heat pumps and freezers are greenhouse gases and while they are much lower in absolutely quantities they are almost all thousands of times more potent and also persist a long time in the atmosphere. nitrous oxides which form when ammonia fertilizers are used among other sources is also a potent greenhouse gas.\n",
            "importantly managers of today and tomorrow need to understand the implications of ai on the career aspirations of their team members. “every working professional will eventually be impacted by ai” eden predicts. fields that will be augmented by ai include those “that analyze and aggregate massive data” she continues. examples include data analytics actuaries seo specialists marketing professionals legal teams contract managers and trading desks. “ai will be able to track follow and predict certain trends that the human mind and eye takes too long to do.”\n",
            "managers won’t have to have algorithm development skills but will be expected to have a high-level understanding of the implications of ai to their operations and organizations. \"ai is challenging professionals across all occupations to redirect their skills to be more adaptive analytical data-driven and cross disciplinary\" says joe robinson co-founder and ceo of hummingbird. \"they must be up to date on the latest trends from multiple angles – business legal privacy information security and so on. for example how is ai being implemented what are the capabilities and limitations of ai and what are the regulations that are currently being put in place? only with this knowledge can professionals and managers assess when and where to apply ai.\"\n"
          ]
        }
      ]
    },
    {
      "cell_type": "markdown",
      "source": [
        "Tokenization and Stopword Removal"
      ],
      "metadata": {
        "id": "d6gh5kMY3sM_"
      }
    },
    {
      "cell_type": "code",
      "source": [
        "from nltk.tokenize import word_tokenize\n",
        "import nltk\n",
        "nltk.download('stopwords')\n",
        "nltk.download('punkt')\n",
        "from nltk.corpus import stopwords\n",
        "\n",
        "stopwords = set(stopwords.words('english'))\n",
        "for i in range(0, len(data)-1):\n",
        "  word_tokens = word_tokenize(data[i])\n",
        "  final_data = [w for w in word_tokens if not w.lower() in stopwords]\n",
        "\n",
        "for w in word_tokens:\n",
        "  if w not in stopwords:\n",
        "    final_data.append(w)\n",
        "\n",
        "print(type(final_data))"
      ],
      "metadata": {
        "colab": {
          "base_uri": "https://localhost:8080/"
        },
        "id": "3aOSzNQh12eE",
        "outputId": "cd4e3f96-63ec-4ca5-97db-11e30c52aa37"
      },
      "execution_count": 114,
      "outputs": [
        {
          "output_type": "stream",
          "name": "stdout",
          "text": [
            "<class 'list'>\n"
          ]
        },
        {
          "output_type": "stream",
          "name": "stderr",
          "text": [
            "[nltk_data] Downloading package stopwords to /root/nltk_data...\n",
            "[nltk_data]   Package stopwords is already up-to-date!\n",
            "[nltk_data] Downloading package punkt to /root/nltk_data...\n",
            "[nltk_data]   Package punkt is already up-to-date!\n"
          ]
        }
      ]
    },
    {
      "cell_type": "code",
      "source": [
        "!pip install BERTopic"
      ],
      "metadata": {
        "id": "urWoXrtdpOgJ"
      },
      "execution_count": null,
      "outputs": []
    },
    {
      "cell_type": "code",
      "source": [
        "from bertopic import BERTopic\n",
        "model = BERTopic(verbose=True)\n",
        "\n",
        "topics, probabs = model.fit_transform(final_data)"
      ],
      "metadata": {
        "colab": {
          "base_uri": "https://localhost:8080/",
          "height": 101,
          "referenced_widgets": [
            "b62480ab04c84a16b882ed4741e8d46e",
            "285f3c9ef1af438ea17cf6d67edca6d6",
            "ef5c16d38e914ca8914f9ce441b7985f",
            "1306b24f03d04d12898df2238130a773",
            "a940e49ed5d149b0b8ccfcb1b0b88747",
            "b1769066017f459d93fa1e6b0bd32afc",
            "ab1014e540f0431391ade6a1d78ede54",
            "98630afcd343408bb0ff2f8437a7e3ac",
            "73d1912d83e6435fbdc97f5337628eb0",
            "71079902b82946c6ae3fa622a2313bda",
            "57ce7dcc3c194cfdb8522a61c9a07f2e"
          ]
        },
        "id": "Tch8wd_4pyKX",
        "outputId": "cb591104-2c00-4468-c8b3-17325e2f2248"
      },
      "execution_count": 115,
      "outputs": [
        {
          "output_type": "display_data",
          "data": {
            "text/plain": [
              "Batches:   0%|          | 0/5 [00:00<?, ?it/s]"
            ],
            "application/vnd.jupyter.widget-view+json": {
              "version_major": 2,
              "version_minor": 0,
              "model_id": "b62480ab04c84a16b882ed4741e8d46e"
            }
          },
          "metadata": {}
        },
        {
          "output_type": "stream",
          "name": "stderr",
          "text": [
            "2023-09-22 10:08:53,026 - BERTopic - Transformed documents to Embeddings\n",
            "2023-09-22 10:08:54,731 - BERTopic - Reduced dimensionality\n",
            "2023-09-22 10:08:54,738 - BERTopic - Clustered reduced embeddings\n"
          ]
        }
      ]
    },
    {
      "cell_type": "code",
      "source": [
        "print(model.get_topic_freq())"
      ],
      "metadata": {
        "colab": {
          "base_uri": "https://localhost:8080/"
        },
        "id": "oMyQa7n6qJYL",
        "outputId": "96920bf6-bdc2-464b-f462-ea59ccc823c5"
      },
      "execution_count": 118,
      "outputs": [
        {
          "output_type": "stream",
          "name": "stdout",
          "text": [
            "   Topic  Count\n",
            "1      0     42\n",
            "2      1     30\n",
            "3      2     27\n",
            "0      3     24\n",
            "4     -1     11\n"
          ]
        }
      ]
    },
    {
      "cell_type": "code",
      "source": [
        "# model.get_topic(0)\n",
        "model.visualize_topics()"
      ],
      "metadata": {
        "colab": {
          "base_uri": "https://localhost:8080/",
          "height": 667
        },
        "id": "uozxBDTzqTqc",
        "outputId": "211bb397-5e80-46b0-e8b3-9796dcd4c870"
      },
      "execution_count": 119,
      "outputs": [
        {
          "output_type": "display_data",
          "data": {
            "text/html": [
              "<html>\n",
              "<head><meta charset=\"utf-8\" /></head>\n",
              "<body>\n",
              "    <div>            <script src=\"https://cdnjs.cloudflare.com/ajax/libs/mathjax/2.7.5/MathJax.js?config=TeX-AMS-MML_SVG\"></script><script type=\"text/javascript\">if (window.MathJax && window.MathJax.Hub && window.MathJax.Hub.Config) {window.MathJax.Hub.Config({SVG: {font: \"STIX-Web\"}});}</script>                <script type=\"text/javascript\">window.PlotlyConfig = {MathJaxConfig: 'local'};</script>\n",
              "        <script charset=\"utf-8\" src=\"https://cdn.plot.ly/plotly-2.24.1.min.js\"></script>                <div id=\"0c7e34a2-ffcb-46f8-8dc6-702cf4c1b789\" class=\"plotly-graph-div\" style=\"height:650px; width:650px;\"></div>            <script type=\"text/javascript\">                                    window.PLOTLYENV=window.PLOTLYENV || {};                                    if (document.getElementById(\"0c7e34a2-ffcb-46f8-8dc6-702cf4c1b789\")) {                    Plotly.newPlot(                        \"0c7e34a2-ffcb-46f8-8dc6-702cf4c1b789\",                        [{\"customdata\":[[0,\"trends | says | redirect | put | must\",42],[1,\"ai | understanding | knowledge | information | implications\",30],[2,\"skills | security | regulations | privacy | limitations\",27],[3,\"managers | robinson | place | organizations | operations\",24]],\"hovertemplate\":\"\\u003cb\\u003eTopic %{customdata[0]}\\u003c\\u002fb\\u003e\\u003cbr\\u003e%{customdata[1]}\\u003cbr\\u003eSize: %{customdata[2]}\",\"legendgroup\":\"\",\"marker\":{\"color\":\"#B0BEC5\",\"size\":[42,30,27,24],\"sizemode\":\"area\",\"sizeref\":0.02625,\"symbol\":\"circle\",\"line\":{\"color\":\"DarkSlateGrey\",\"width\":2}},\"mode\":\"markers\",\"name\":\"\",\"orientation\":\"v\",\"showlegend\":false,\"x\":[18.41668701171875,18.11944007873535,18.865495681762695,19.059268951416016],\"xaxis\":\"x\",\"y\":[2.4622042179107666,4.3368635177612305,3.8897435665130615,2.8824303150177],\"yaxis\":\"y\",\"type\":\"scatter\"}],                        {\"template\":{\"data\":{\"barpolar\":[{\"marker\":{\"line\":{\"color\":\"white\",\"width\":0.5},\"pattern\":{\"fillmode\":\"overlay\",\"size\":10,\"solidity\":0.2}},\"type\":\"barpolar\"}],\"bar\":[{\"error_x\":{\"color\":\"rgb(36,36,36)\"},\"error_y\":{\"color\":\"rgb(36,36,36)\"},\"marker\":{\"line\":{\"color\":\"white\",\"width\":0.5},\"pattern\":{\"fillmode\":\"overlay\",\"size\":10,\"solidity\":0.2}},\"type\":\"bar\"}],\"carpet\":[{\"aaxis\":{\"endlinecolor\":\"rgb(36,36,36)\",\"gridcolor\":\"white\",\"linecolor\":\"white\",\"minorgridcolor\":\"white\",\"startlinecolor\":\"rgb(36,36,36)\"},\"baxis\":{\"endlinecolor\":\"rgb(36,36,36)\",\"gridcolor\":\"white\",\"linecolor\":\"white\",\"minorgridcolor\":\"white\",\"startlinecolor\":\"rgb(36,36,36)\"},\"type\":\"carpet\"}],\"choropleth\":[{\"colorbar\":{\"outlinewidth\":1,\"tickcolor\":\"rgb(36,36,36)\",\"ticks\":\"outside\"},\"type\":\"choropleth\"}],\"contourcarpet\":[{\"colorbar\":{\"outlinewidth\":1,\"tickcolor\":\"rgb(36,36,36)\",\"ticks\":\"outside\"},\"type\":\"contourcarpet\"}],\"contour\":[{\"colorbar\":{\"outlinewidth\":1,\"tickcolor\":\"rgb(36,36,36)\",\"ticks\":\"outside\"},\"colorscale\":[[0.0,\"#440154\"],[0.1111111111111111,\"#482878\"],[0.2222222222222222,\"#3e4989\"],[0.3333333333333333,\"#31688e\"],[0.4444444444444444,\"#26828e\"],[0.5555555555555556,\"#1f9e89\"],[0.6666666666666666,\"#35b779\"],[0.7777777777777778,\"#6ece58\"],[0.8888888888888888,\"#b5de2b\"],[1.0,\"#fde725\"]],\"type\":\"contour\"}],\"heatmapgl\":[{\"colorbar\":{\"outlinewidth\":1,\"tickcolor\":\"rgb(36,36,36)\",\"ticks\":\"outside\"},\"colorscale\":[[0.0,\"#440154\"],[0.1111111111111111,\"#482878\"],[0.2222222222222222,\"#3e4989\"],[0.3333333333333333,\"#31688e\"],[0.4444444444444444,\"#26828e\"],[0.5555555555555556,\"#1f9e89\"],[0.6666666666666666,\"#35b779\"],[0.7777777777777778,\"#6ece58\"],[0.8888888888888888,\"#b5de2b\"],[1.0,\"#fde725\"]],\"type\":\"heatmapgl\"}],\"heatmap\":[{\"colorbar\":{\"outlinewidth\":1,\"tickcolor\":\"rgb(36,36,36)\",\"ticks\":\"outside\"},\"colorscale\":[[0.0,\"#440154\"],[0.1111111111111111,\"#482878\"],[0.2222222222222222,\"#3e4989\"],[0.3333333333333333,\"#31688e\"],[0.4444444444444444,\"#26828e\"],[0.5555555555555556,\"#1f9e89\"],[0.6666666666666666,\"#35b779\"],[0.7777777777777778,\"#6ece58\"],[0.8888888888888888,\"#b5de2b\"],[1.0,\"#fde725\"]],\"type\":\"heatmap\"}],\"histogram2dcontour\":[{\"colorbar\":{\"outlinewidth\":1,\"tickcolor\":\"rgb(36,36,36)\",\"ticks\":\"outside\"},\"colorscale\":[[0.0,\"#440154\"],[0.1111111111111111,\"#482878\"],[0.2222222222222222,\"#3e4989\"],[0.3333333333333333,\"#31688e\"],[0.4444444444444444,\"#26828e\"],[0.5555555555555556,\"#1f9e89\"],[0.6666666666666666,\"#35b779\"],[0.7777777777777778,\"#6ece58\"],[0.8888888888888888,\"#b5de2b\"],[1.0,\"#fde725\"]],\"type\":\"histogram2dcontour\"}],\"histogram2d\":[{\"colorbar\":{\"outlinewidth\":1,\"tickcolor\":\"rgb(36,36,36)\",\"ticks\":\"outside\"},\"colorscale\":[[0.0,\"#440154\"],[0.1111111111111111,\"#482878\"],[0.2222222222222222,\"#3e4989\"],[0.3333333333333333,\"#31688e\"],[0.4444444444444444,\"#26828e\"],[0.5555555555555556,\"#1f9e89\"],[0.6666666666666666,\"#35b779\"],[0.7777777777777778,\"#6ece58\"],[0.8888888888888888,\"#b5de2b\"],[1.0,\"#fde725\"]],\"type\":\"histogram2d\"}],\"histogram\":[{\"marker\":{\"line\":{\"color\":\"white\",\"width\":0.6}},\"type\":\"histogram\"}],\"mesh3d\":[{\"colorbar\":{\"outlinewidth\":1,\"tickcolor\":\"rgb(36,36,36)\",\"ticks\":\"outside\"},\"type\":\"mesh3d\"}],\"parcoords\":[{\"line\":{\"colorbar\":{\"outlinewidth\":1,\"tickcolor\":\"rgb(36,36,36)\",\"ticks\":\"outside\"}},\"type\":\"parcoords\"}],\"pie\":[{\"automargin\":true,\"type\":\"pie\"}],\"scatter3d\":[{\"line\":{\"colorbar\":{\"outlinewidth\":1,\"tickcolor\":\"rgb(36,36,36)\",\"ticks\":\"outside\"}},\"marker\":{\"colorbar\":{\"outlinewidth\":1,\"tickcolor\":\"rgb(36,36,36)\",\"ticks\":\"outside\"}},\"type\":\"scatter3d\"}],\"scattercarpet\":[{\"marker\":{\"colorbar\":{\"outlinewidth\":1,\"tickcolor\":\"rgb(36,36,36)\",\"ticks\":\"outside\"}},\"type\":\"scattercarpet\"}],\"scattergeo\":[{\"marker\":{\"colorbar\":{\"outlinewidth\":1,\"tickcolor\":\"rgb(36,36,36)\",\"ticks\":\"outside\"}},\"type\":\"scattergeo\"}],\"scattergl\":[{\"marker\":{\"colorbar\":{\"outlinewidth\":1,\"tickcolor\":\"rgb(36,36,36)\",\"ticks\":\"outside\"}},\"type\":\"scattergl\"}],\"scattermapbox\":[{\"marker\":{\"colorbar\":{\"outlinewidth\":1,\"tickcolor\":\"rgb(36,36,36)\",\"ticks\":\"outside\"}},\"type\":\"scattermapbox\"}],\"scatterpolargl\":[{\"marker\":{\"colorbar\":{\"outlinewidth\":1,\"tickcolor\":\"rgb(36,36,36)\",\"ticks\":\"outside\"}},\"type\":\"scatterpolargl\"}],\"scatterpolar\":[{\"marker\":{\"colorbar\":{\"outlinewidth\":1,\"tickcolor\":\"rgb(36,36,36)\",\"ticks\":\"outside\"}},\"type\":\"scatterpolar\"}],\"scatter\":[{\"fillpattern\":{\"fillmode\":\"overlay\",\"size\":10,\"solidity\":0.2},\"type\":\"scatter\"}],\"scatterternary\":[{\"marker\":{\"colorbar\":{\"outlinewidth\":1,\"tickcolor\":\"rgb(36,36,36)\",\"ticks\":\"outside\"}},\"type\":\"scatterternary\"}],\"surface\":[{\"colorbar\":{\"outlinewidth\":1,\"tickcolor\":\"rgb(36,36,36)\",\"ticks\":\"outside\"},\"colorscale\":[[0.0,\"#440154\"],[0.1111111111111111,\"#482878\"],[0.2222222222222222,\"#3e4989\"],[0.3333333333333333,\"#31688e\"],[0.4444444444444444,\"#26828e\"],[0.5555555555555556,\"#1f9e89\"],[0.6666666666666666,\"#35b779\"],[0.7777777777777778,\"#6ece58\"],[0.8888888888888888,\"#b5de2b\"],[1.0,\"#fde725\"]],\"type\":\"surface\"}],\"table\":[{\"cells\":{\"fill\":{\"color\":\"rgb(237,237,237)\"},\"line\":{\"color\":\"white\"}},\"header\":{\"fill\":{\"color\":\"rgb(217,217,217)\"},\"line\":{\"color\":\"white\"}},\"type\":\"table\"}]},\"layout\":{\"annotationdefaults\":{\"arrowhead\":0,\"arrowwidth\":1},\"autotypenumbers\":\"strict\",\"coloraxis\":{\"colorbar\":{\"outlinewidth\":1,\"tickcolor\":\"rgb(36,36,36)\",\"ticks\":\"outside\"}},\"colorscale\":{\"diverging\":[[0.0,\"rgb(103,0,31)\"],[0.1,\"rgb(178,24,43)\"],[0.2,\"rgb(214,96,77)\"],[0.3,\"rgb(244,165,130)\"],[0.4,\"rgb(253,219,199)\"],[0.5,\"rgb(247,247,247)\"],[0.6,\"rgb(209,229,240)\"],[0.7,\"rgb(146,197,222)\"],[0.8,\"rgb(67,147,195)\"],[0.9,\"rgb(33,102,172)\"],[1.0,\"rgb(5,48,97)\"]],\"sequential\":[[0.0,\"#440154\"],[0.1111111111111111,\"#482878\"],[0.2222222222222222,\"#3e4989\"],[0.3333333333333333,\"#31688e\"],[0.4444444444444444,\"#26828e\"],[0.5555555555555556,\"#1f9e89\"],[0.6666666666666666,\"#35b779\"],[0.7777777777777778,\"#6ece58\"],[0.8888888888888888,\"#b5de2b\"],[1.0,\"#fde725\"]],\"sequentialminus\":[[0.0,\"#440154\"],[0.1111111111111111,\"#482878\"],[0.2222222222222222,\"#3e4989\"],[0.3333333333333333,\"#31688e\"],[0.4444444444444444,\"#26828e\"],[0.5555555555555556,\"#1f9e89\"],[0.6666666666666666,\"#35b779\"],[0.7777777777777778,\"#6ece58\"],[0.8888888888888888,\"#b5de2b\"],[1.0,\"#fde725\"]]},\"colorway\":[\"#1F77B4\",\"#FF7F0E\",\"#2CA02C\",\"#D62728\",\"#9467BD\",\"#8C564B\",\"#E377C2\",\"#7F7F7F\",\"#BCBD22\",\"#17BECF\"],\"font\":{\"color\":\"rgb(36,36,36)\"},\"geo\":{\"bgcolor\":\"white\",\"lakecolor\":\"white\",\"landcolor\":\"white\",\"showlakes\":true,\"showland\":true,\"subunitcolor\":\"white\"},\"hoverlabel\":{\"align\":\"left\"},\"hovermode\":\"closest\",\"mapbox\":{\"style\":\"light\"},\"paper_bgcolor\":\"white\",\"plot_bgcolor\":\"white\",\"polar\":{\"angularaxis\":{\"gridcolor\":\"rgb(232,232,232)\",\"linecolor\":\"rgb(36,36,36)\",\"showgrid\":false,\"showline\":true,\"ticks\":\"outside\"},\"bgcolor\":\"white\",\"radialaxis\":{\"gridcolor\":\"rgb(232,232,232)\",\"linecolor\":\"rgb(36,36,36)\",\"showgrid\":false,\"showline\":true,\"ticks\":\"outside\"}},\"scene\":{\"xaxis\":{\"backgroundcolor\":\"white\",\"gridcolor\":\"rgb(232,232,232)\",\"gridwidth\":2,\"linecolor\":\"rgb(36,36,36)\",\"showbackground\":true,\"showgrid\":false,\"showline\":true,\"ticks\":\"outside\",\"zeroline\":false,\"zerolinecolor\":\"rgb(36,36,36)\"},\"yaxis\":{\"backgroundcolor\":\"white\",\"gridcolor\":\"rgb(232,232,232)\",\"gridwidth\":2,\"linecolor\":\"rgb(36,36,36)\",\"showbackground\":true,\"showgrid\":false,\"showline\":true,\"ticks\":\"outside\",\"zeroline\":false,\"zerolinecolor\":\"rgb(36,36,36)\"},\"zaxis\":{\"backgroundcolor\":\"white\",\"gridcolor\":\"rgb(232,232,232)\",\"gridwidth\":2,\"linecolor\":\"rgb(36,36,36)\",\"showbackground\":true,\"showgrid\":false,\"showline\":true,\"ticks\":\"outside\",\"zeroline\":false,\"zerolinecolor\":\"rgb(36,36,36)\"}},\"shapedefaults\":{\"fillcolor\":\"black\",\"line\":{\"width\":0},\"opacity\":0.3},\"ternary\":{\"aaxis\":{\"gridcolor\":\"rgb(232,232,232)\",\"linecolor\":\"rgb(36,36,36)\",\"showgrid\":false,\"showline\":true,\"ticks\":\"outside\"},\"baxis\":{\"gridcolor\":\"rgb(232,232,232)\",\"linecolor\":\"rgb(36,36,36)\",\"showgrid\":false,\"showline\":true,\"ticks\":\"outside\"},\"bgcolor\":\"white\",\"caxis\":{\"gridcolor\":\"rgb(232,232,232)\",\"linecolor\":\"rgb(36,36,36)\",\"showgrid\":false,\"showline\":true,\"ticks\":\"outside\"}},\"title\":{\"x\":0.05},\"xaxis\":{\"automargin\":true,\"gridcolor\":\"rgb(232,232,232)\",\"linecolor\":\"rgb(36,36,36)\",\"showgrid\":false,\"showline\":true,\"ticks\":\"outside\",\"title\":{\"standoff\":15},\"zeroline\":false,\"zerolinecolor\":\"rgb(36,36,36)\"},\"yaxis\":{\"automargin\":true,\"gridcolor\":\"rgb(232,232,232)\",\"linecolor\":\"rgb(36,36,36)\",\"showgrid\":false,\"showline\":true,\"ticks\":\"outside\",\"title\":{\"standoff\":15},\"zeroline\":false,\"zerolinecolor\":\"rgb(36,36,36)\"}}},\"xaxis\":{\"anchor\":\"y\",\"domain\":[0.0,1.0],\"title\":{\"text\":\"\"},\"visible\":false,\"range\":[15.401524066925049,21.91815929412842]},\"yaxis\":{\"anchor\":\"x\",\"domain\":[0.0,1.0],\"title\":{\"text\":\"\"},\"visible\":false,\"range\":[2.092873585224152,4.987393045425415]},\"legend\":{\"tracegroupgap\":0,\"itemsizing\":\"constant\"},\"margin\":{\"t\":60},\"title\":{\"font\":{\"size\":22,\"color\":\"Black\"},\"text\":\"\\u003cb\\u003eIntertopic Distance Map\\u003c\\u002fb\\u003e\",\"y\":0.95,\"x\":0.5,\"xanchor\":\"center\",\"yanchor\":\"top\"},\"hoverlabel\":{\"font\":{\"size\":16,\"family\":\"Rockwell\"},\"bgcolor\":\"white\"},\"width\":650,\"height\":650,\"sliders\":[{\"active\":0,\"pad\":{\"t\":50},\"steps\":[{\"args\":[{\"marker.color\":[[\"red\",\"#B0BEC5\",\"#B0BEC5\",\"#B0BEC5\"]]}],\"label\":\"Topic 0\",\"method\":\"update\"},{\"args\":[{\"marker.color\":[[\"#B0BEC5\",\"red\",\"#B0BEC5\",\"#B0BEC5\"]]}],\"label\":\"Topic 1\",\"method\":\"update\"},{\"args\":[{\"marker.color\":[[\"#B0BEC5\",\"#B0BEC5\",\"red\",\"#B0BEC5\"]]}],\"label\":\"Topic 2\",\"method\":\"update\"},{\"args\":[{\"marker.color\":[[\"#B0BEC5\",\"#B0BEC5\",\"#B0BEC5\",\"red\"]]}],\"label\":\"Topic 3\",\"method\":\"update\"}]}],\"shapes\":[{\"line\":{\"color\":\"#CFD8DC\",\"width\":2},\"type\":\"line\",\"x0\":18.659841680526732,\"x1\":18.659841680526732,\"y0\":2.092873585224152,\"y1\":4.987393045425415},{\"line\":{\"color\":\"#9E9E9E\",\"width\":2},\"type\":\"line\",\"x0\":15.401524066925049,\"x1\":21.91815929412842,\"y0\":3.5401333153247836,\"y1\":3.5401333153247836}],\"annotations\":[{\"showarrow\":false,\"text\":\"D1\",\"x\":15.401524066925049,\"y\":3.5401333153247836,\"yshift\":10},{\"showarrow\":false,\"text\":\"D2\",\"x\":18.659841680526732,\"xshift\":10,\"y\":4.987393045425415}]},                        {\"responsive\": true}                    ).then(function(){\n",
              "                            \n",
              "var gd = document.getElementById('0c7e34a2-ffcb-46f8-8dc6-702cf4c1b789');\n",
              "var x = new MutationObserver(function (mutations, observer) {{\n",
              "        var display = window.getComputedStyle(gd).display;\n",
              "        if (!display || display === 'none') {{\n",
              "            console.log([gd, 'removed!']);\n",
              "            Plotly.purge(gd);\n",
              "            observer.disconnect();\n",
              "        }}\n",
              "}});\n",
              "\n",
              "// Listen for the removal of the full notebook cells\n",
              "var notebookContainer = gd.closest('#notebook-container');\n",
              "if (notebookContainer) {{\n",
              "    x.observe(notebookContainer, {childList: true});\n",
              "}}\n",
              "\n",
              "// Listen for the clearing of the current output cell\n",
              "var outputEl = gd.closest('.output');\n",
              "if (outputEl) {{\n",
              "    x.observe(outputEl, {childList: true});\n",
              "}}\n",
              "\n",
              "                        })                };                            </script>        </div>\n",
              "</body>\n",
              "</html>"
            ]
          },
          "metadata": {}
        }
      ]
    },
    {
      "cell_type": "code",
      "source": [
        "model.visualize_barchart()"
      ],
      "metadata": {
        "colab": {
          "base_uri": "https://localhost:8080/",
          "height": 342
        },
        "id": "XWJDrASIqoRi",
        "outputId": "b999ddae-32ee-4db5-a3e2-2776ecf1da4b"
      },
      "execution_count": 120,
      "outputs": [
        {
          "output_type": "display_data",
          "data": {
            "text/html": [
              "<html>\n",
              "<head><meta charset=\"utf-8\" /></head>\n",
              "<body>\n",
              "    <div>            <script src=\"https://cdnjs.cloudflare.com/ajax/libs/mathjax/2.7.5/MathJax.js?config=TeX-AMS-MML_SVG\"></script><script type=\"text/javascript\">if (window.MathJax && window.MathJax.Hub && window.MathJax.Hub.Config) {window.MathJax.Hub.Config({SVG: {font: \"STIX-Web\"}});}</script>                <script type=\"text/javascript\">window.PlotlyConfig = {MathJaxConfig: 'local'};</script>\n",
              "        <script charset=\"utf-8\" src=\"https://cdn.plot.ly/plotly-2.24.1.min.js\"></script>                <div id=\"7629d6b4-fd56-4fb0-8725-d22720d3e5f5\" class=\"plotly-graph-div\" style=\"height:325.0px; width:1000px;\"></div>            <script type=\"text/javascript\">                                    window.PLOTLYENV=window.PLOTLYENV || {};                                    if (document.getElementById(\"7629d6b4-fd56-4fb0-8725-d22720d3e5f5\")) {                    Plotly.newPlot(                        \"7629d6b4-fd56-4fb0-8725-d22720d3e5f5\",                        [{\"marker\":{\"color\":\"#D55E00\"},\"orientation\":\"h\",\"x\":[0.24849066497880004,0.24849066497880004,0.24849066497880004,0.24849066497880004,0.24849066497880004],\"y\":[\"must  \",\"put  \",\"redirect  \",\"says  \",\"trends  \"],\"type\":\"bar\",\"xaxis\":\"x\",\"yaxis\":\"y\"},{\"marker\":{\"color\":\"#0072B2\"},\"orientation\":\"h\",\"x\":[0.16566044331920002,0.16566044331920002,0.16566044331920002,0.16566044331920002,0.3877169366018936],\"y\":[\"implications  \",\"information  \",\"knowledge  \",\"understanding  \",\"ai  \"],\"type\":\"bar\",\"xaxis\":\"x2\",\"yaxis\":\"y2\"},{\"marker\":{\"color\":\"#CC79A7\"},\"orientation\":\"h\",\"x\":[0.18406715924355557,0.18406715924355557,0.18406715924355557,0.18406715924355557,0.27730402620764316],\"y\":[\"limitations  \",\"privacy  \",\"regulations  \",\"security  \",\"skills  \"],\"type\":\"bar\",\"xaxis\":\"x3\",\"yaxis\":\"y3\"},{\"marker\":{\"color\":\"#E69F00\"},\"orientation\":\"h\",\"x\":[0.20707555414900003,0.20707555414900003,0.20707555414900003,0.20707555414900003,0.31196702948359856],\"y\":[\"operations  \",\"organizations  \",\"place  \",\"robinson  \",\"managers  \"],\"type\":\"bar\",\"xaxis\":\"x4\",\"yaxis\":\"y4\"}],                        {\"template\":{\"data\":{\"barpolar\":[{\"marker\":{\"line\":{\"color\":\"white\",\"width\":0.5},\"pattern\":{\"fillmode\":\"overlay\",\"size\":10,\"solidity\":0.2}},\"type\":\"barpolar\"}],\"bar\":[{\"error_x\":{\"color\":\"#2a3f5f\"},\"error_y\":{\"color\":\"#2a3f5f\"},\"marker\":{\"line\":{\"color\":\"white\",\"width\":0.5},\"pattern\":{\"fillmode\":\"overlay\",\"size\":10,\"solidity\":0.2}},\"type\":\"bar\"}],\"carpet\":[{\"aaxis\":{\"endlinecolor\":\"#2a3f5f\",\"gridcolor\":\"#C8D4E3\",\"linecolor\":\"#C8D4E3\",\"minorgridcolor\":\"#C8D4E3\",\"startlinecolor\":\"#2a3f5f\"},\"baxis\":{\"endlinecolor\":\"#2a3f5f\",\"gridcolor\":\"#C8D4E3\",\"linecolor\":\"#C8D4E3\",\"minorgridcolor\":\"#C8D4E3\",\"startlinecolor\":\"#2a3f5f\"},\"type\":\"carpet\"}],\"choropleth\":[{\"colorbar\":{\"outlinewidth\":0,\"ticks\":\"\"},\"type\":\"choropleth\"}],\"contourcarpet\":[{\"colorbar\":{\"outlinewidth\":0,\"ticks\":\"\"},\"type\":\"contourcarpet\"}],\"contour\":[{\"colorbar\":{\"outlinewidth\":0,\"ticks\":\"\"},\"colorscale\":[[0.0,\"#0d0887\"],[0.1111111111111111,\"#46039f\"],[0.2222222222222222,\"#7201a8\"],[0.3333333333333333,\"#9c179e\"],[0.4444444444444444,\"#bd3786\"],[0.5555555555555556,\"#d8576b\"],[0.6666666666666666,\"#ed7953\"],[0.7777777777777778,\"#fb9f3a\"],[0.8888888888888888,\"#fdca26\"],[1.0,\"#f0f921\"]],\"type\":\"contour\"}],\"heatmapgl\":[{\"colorbar\":{\"outlinewidth\":0,\"ticks\":\"\"},\"colorscale\":[[0.0,\"#0d0887\"],[0.1111111111111111,\"#46039f\"],[0.2222222222222222,\"#7201a8\"],[0.3333333333333333,\"#9c179e\"],[0.4444444444444444,\"#bd3786\"],[0.5555555555555556,\"#d8576b\"],[0.6666666666666666,\"#ed7953\"],[0.7777777777777778,\"#fb9f3a\"],[0.8888888888888888,\"#fdca26\"],[1.0,\"#f0f921\"]],\"type\":\"heatmapgl\"}],\"heatmap\":[{\"colorbar\":{\"outlinewidth\":0,\"ticks\":\"\"},\"colorscale\":[[0.0,\"#0d0887\"],[0.1111111111111111,\"#46039f\"],[0.2222222222222222,\"#7201a8\"],[0.3333333333333333,\"#9c179e\"],[0.4444444444444444,\"#bd3786\"],[0.5555555555555556,\"#d8576b\"],[0.6666666666666666,\"#ed7953\"],[0.7777777777777778,\"#fb9f3a\"],[0.8888888888888888,\"#fdca26\"],[1.0,\"#f0f921\"]],\"type\":\"heatmap\"}],\"histogram2dcontour\":[{\"colorbar\":{\"outlinewidth\":0,\"ticks\":\"\"},\"colorscale\":[[0.0,\"#0d0887\"],[0.1111111111111111,\"#46039f\"],[0.2222222222222222,\"#7201a8\"],[0.3333333333333333,\"#9c179e\"],[0.4444444444444444,\"#bd3786\"],[0.5555555555555556,\"#d8576b\"],[0.6666666666666666,\"#ed7953\"],[0.7777777777777778,\"#fb9f3a\"],[0.8888888888888888,\"#fdca26\"],[1.0,\"#f0f921\"]],\"type\":\"histogram2dcontour\"}],\"histogram2d\":[{\"colorbar\":{\"outlinewidth\":0,\"ticks\":\"\"},\"colorscale\":[[0.0,\"#0d0887\"],[0.1111111111111111,\"#46039f\"],[0.2222222222222222,\"#7201a8\"],[0.3333333333333333,\"#9c179e\"],[0.4444444444444444,\"#bd3786\"],[0.5555555555555556,\"#d8576b\"],[0.6666666666666666,\"#ed7953\"],[0.7777777777777778,\"#fb9f3a\"],[0.8888888888888888,\"#fdca26\"],[1.0,\"#f0f921\"]],\"type\":\"histogram2d\"}],\"histogram\":[{\"marker\":{\"pattern\":{\"fillmode\":\"overlay\",\"size\":10,\"solidity\":0.2}},\"type\":\"histogram\"}],\"mesh3d\":[{\"colorbar\":{\"outlinewidth\":0,\"ticks\":\"\"},\"type\":\"mesh3d\"}],\"parcoords\":[{\"line\":{\"colorbar\":{\"outlinewidth\":0,\"ticks\":\"\"}},\"type\":\"parcoords\"}],\"pie\":[{\"automargin\":true,\"type\":\"pie\"}],\"scatter3d\":[{\"line\":{\"colorbar\":{\"outlinewidth\":0,\"ticks\":\"\"}},\"marker\":{\"colorbar\":{\"outlinewidth\":0,\"ticks\":\"\"}},\"type\":\"scatter3d\"}],\"scattercarpet\":[{\"marker\":{\"colorbar\":{\"outlinewidth\":0,\"ticks\":\"\"}},\"type\":\"scattercarpet\"}],\"scattergeo\":[{\"marker\":{\"colorbar\":{\"outlinewidth\":0,\"ticks\":\"\"}},\"type\":\"scattergeo\"}],\"scattergl\":[{\"marker\":{\"colorbar\":{\"outlinewidth\":0,\"ticks\":\"\"}},\"type\":\"scattergl\"}],\"scattermapbox\":[{\"marker\":{\"colorbar\":{\"outlinewidth\":0,\"ticks\":\"\"}},\"type\":\"scattermapbox\"}],\"scatterpolargl\":[{\"marker\":{\"colorbar\":{\"outlinewidth\":0,\"ticks\":\"\"}},\"type\":\"scatterpolargl\"}],\"scatterpolar\":[{\"marker\":{\"colorbar\":{\"outlinewidth\":0,\"ticks\":\"\"}},\"type\":\"scatterpolar\"}],\"scatter\":[{\"fillpattern\":{\"fillmode\":\"overlay\",\"size\":10,\"solidity\":0.2},\"type\":\"scatter\"}],\"scatterternary\":[{\"marker\":{\"colorbar\":{\"outlinewidth\":0,\"ticks\":\"\"}},\"type\":\"scatterternary\"}],\"surface\":[{\"colorbar\":{\"outlinewidth\":0,\"ticks\":\"\"},\"colorscale\":[[0.0,\"#0d0887\"],[0.1111111111111111,\"#46039f\"],[0.2222222222222222,\"#7201a8\"],[0.3333333333333333,\"#9c179e\"],[0.4444444444444444,\"#bd3786\"],[0.5555555555555556,\"#d8576b\"],[0.6666666666666666,\"#ed7953\"],[0.7777777777777778,\"#fb9f3a\"],[0.8888888888888888,\"#fdca26\"],[1.0,\"#f0f921\"]],\"type\":\"surface\"}],\"table\":[{\"cells\":{\"fill\":{\"color\":\"#EBF0F8\"},\"line\":{\"color\":\"white\"}},\"header\":{\"fill\":{\"color\":\"#C8D4E3\"},\"line\":{\"color\":\"white\"}},\"type\":\"table\"}]},\"layout\":{\"annotationdefaults\":{\"arrowcolor\":\"#2a3f5f\",\"arrowhead\":0,\"arrowwidth\":1},\"autotypenumbers\":\"strict\",\"coloraxis\":{\"colorbar\":{\"outlinewidth\":0,\"ticks\":\"\"}},\"colorscale\":{\"diverging\":[[0,\"#8e0152\"],[0.1,\"#c51b7d\"],[0.2,\"#de77ae\"],[0.3,\"#f1b6da\"],[0.4,\"#fde0ef\"],[0.5,\"#f7f7f7\"],[0.6,\"#e6f5d0\"],[0.7,\"#b8e186\"],[0.8,\"#7fbc41\"],[0.9,\"#4d9221\"],[1,\"#276419\"]],\"sequential\":[[0.0,\"#0d0887\"],[0.1111111111111111,\"#46039f\"],[0.2222222222222222,\"#7201a8\"],[0.3333333333333333,\"#9c179e\"],[0.4444444444444444,\"#bd3786\"],[0.5555555555555556,\"#d8576b\"],[0.6666666666666666,\"#ed7953\"],[0.7777777777777778,\"#fb9f3a\"],[0.8888888888888888,\"#fdca26\"],[1.0,\"#f0f921\"]],\"sequentialminus\":[[0.0,\"#0d0887\"],[0.1111111111111111,\"#46039f\"],[0.2222222222222222,\"#7201a8\"],[0.3333333333333333,\"#9c179e\"],[0.4444444444444444,\"#bd3786\"],[0.5555555555555556,\"#d8576b\"],[0.6666666666666666,\"#ed7953\"],[0.7777777777777778,\"#fb9f3a\"],[0.8888888888888888,\"#fdca26\"],[1.0,\"#f0f921\"]]},\"colorway\":[\"#636efa\",\"#EF553B\",\"#00cc96\",\"#ab63fa\",\"#FFA15A\",\"#19d3f3\",\"#FF6692\",\"#B6E880\",\"#FF97FF\",\"#FECB52\"],\"font\":{\"color\":\"#2a3f5f\"},\"geo\":{\"bgcolor\":\"white\",\"lakecolor\":\"white\",\"landcolor\":\"white\",\"showlakes\":true,\"showland\":true,\"subunitcolor\":\"#C8D4E3\"},\"hoverlabel\":{\"align\":\"left\"},\"hovermode\":\"closest\",\"mapbox\":{\"style\":\"light\"},\"paper_bgcolor\":\"white\",\"plot_bgcolor\":\"white\",\"polar\":{\"angularaxis\":{\"gridcolor\":\"#EBF0F8\",\"linecolor\":\"#EBF0F8\",\"ticks\":\"\"},\"bgcolor\":\"white\",\"radialaxis\":{\"gridcolor\":\"#EBF0F8\",\"linecolor\":\"#EBF0F8\",\"ticks\":\"\"}},\"scene\":{\"xaxis\":{\"backgroundcolor\":\"white\",\"gridcolor\":\"#DFE8F3\",\"gridwidth\":2,\"linecolor\":\"#EBF0F8\",\"showbackground\":true,\"ticks\":\"\",\"zerolinecolor\":\"#EBF0F8\"},\"yaxis\":{\"backgroundcolor\":\"white\",\"gridcolor\":\"#DFE8F3\",\"gridwidth\":2,\"linecolor\":\"#EBF0F8\",\"showbackground\":true,\"ticks\":\"\",\"zerolinecolor\":\"#EBF0F8\"},\"zaxis\":{\"backgroundcolor\":\"white\",\"gridcolor\":\"#DFE8F3\",\"gridwidth\":2,\"linecolor\":\"#EBF0F8\",\"showbackground\":true,\"ticks\":\"\",\"zerolinecolor\":\"#EBF0F8\"}},\"shapedefaults\":{\"line\":{\"color\":\"#2a3f5f\"}},\"ternary\":{\"aaxis\":{\"gridcolor\":\"#DFE8F3\",\"linecolor\":\"#A2B1C6\",\"ticks\":\"\"},\"baxis\":{\"gridcolor\":\"#DFE8F3\",\"linecolor\":\"#A2B1C6\",\"ticks\":\"\"},\"bgcolor\":\"white\",\"caxis\":{\"gridcolor\":\"#DFE8F3\",\"linecolor\":\"#A2B1C6\",\"ticks\":\"\"}},\"title\":{\"x\":0.05},\"xaxis\":{\"automargin\":true,\"gridcolor\":\"#EBF0F8\",\"linecolor\":\"#EBF0F8\",\"ticks\":\"\",\"title\":{\"standoff\":15},\"zerolinecolor\":\"#EBF0F8\",\"zerolinewidth\":2},\"yaxis\":{\"automargin\":true,\"gridcolor\":\"#EBF0F8\",\"linecolor\":\"#EBF0F8\",\"ticks\":\"\",\"title\":{\"standoff\":15},\"zerolinecolor\":\"#EBF0F8\",\"zerolinewidth\":2}}},\"xaxis\":{\"anchor\":\"y\",\"domain\":[0.0,0.175],\"showgrid\":true},\"yaxis\":{\"anchor\":\"x\",\"domain\":[0.0,1.0],\"showgrid\":true},\"xaxis2\":{\"anchor\":\"y2\",\"domain\":[0.275,0.45],\"showgrid\":true},\"yaxis2\":{\"anchor\":\"x2\",\"domain\":[0.0,1.0],\"showgrid\":true},\"xaxis3\":{\"anchor\":\"y3\",\"domain\":[0.55,0.7250000000000001],\"showgrid\":true},\"yaxis3\":{\"anchor\":\"x3\",\"domain\":[0.0,1.0],\"showgrid\":true},\"xaxis4\":{\"anchor\":\"y4\",\"domain\":[0.825,1.0],\"showgrid\":true},\"yaxis4\":{\"anchor\":\"x4\",\"domain\":[0.0,1.0],\"showgrid\":true},\"annotations\":[{\"font\":{\"size\":16},\"showarrow\":false,\"text\":\"Topic 0\",\"x\":0.0875,\"xanchor\":\"center\",\"xref\":\"paper\",\"y\":1.0,\"yanchor\":\"bottom\",\"yref\":\"paper\"},{\"font\":{\"size\":16},\"showarrow\":false,\"text\":\"Topic 1\",\"x\":0.36250000000000004,\"xanchor\":\"center\",\"xref\":\"paper\",\"y\":1.0,\"yanchor\":\"bottom\",\"yref\":\"paper\"},{\"font\":{\"size\":16},\"showarrow\":false,\"text\":\"Topic 2\",\"x\":0.6375000000000001,\"xanchor\":\"center\",\"xref\":\"paper\",\"y\":1.0,\"yanchor\":\"bottom\",\"yref\":\"paper\"},{\"font\":{\"size\":16},\"showarrow\":false,\"text\":\"Topic 3\",\"x\":0.9125,\"xanchor\":\"center\",\"xref\":\"paper\",\"y\":1.0,\"yanchor\":\"bottom\",\"yref\":\"paper\"}],\"title\":{\"font\":{\"size\":22,\"color\":\"Black\"},\"text\":\"Topic Word Scores\",\"x\":0.5,\"xanchor\":\"center\",\"yanchor\":\"top\"},\"hoverlabel\":{\"font\":{\"size\":16,\"family\":\"Rockwell\"},\"bgcolor\":\"white\"},\"showlegend\":false,\"width\":1000,\"height\":325.0},                        {\"responsive\": true}                    ).then(function(){\n",
              "                            \n",
              "var gd = document.getElementById('7629d6b4-fd56-4fb0-8725-d22720d3e5f5');\n",
              "var x = new MutationObserver(function (mutations, observer) {{\n",
              "        var display = window.getComputedStyle(gd).display;\n",
              "        if (!display || display === 'none') {{\n",
              "            console.log([gd, 'removed!']);\n",
              "            Plotly.purge(gd);\n",
              "            observer.disconnect();\n",
              "        }}\n",
              "}});\n",
              "\n",
              "// Listen for the removal of the full notebook cells\n",
              "var notebookContainer = gd.closest('#notebook-container');\n",
              "if (notebookContainer) {{\n",
              "    x.observe(notebookContainer, {childList: true});\n",
              "}}\n",
              "\n",
              "// Listen for the clearing of the current output cell\n",
              "var outputEl = gd.closest('.output');\n",
              "if (outputEl) {{\n",
              "    x.observe(outputEl, {childList: true});\n",
              "}}\n",
              "\n",
              "                        })                };                            </script>        </div>\n",
              "</body>\n",
              "</html>"
            ]
          },
          "metadata": {}
        }
      ]
    }
  ],
  "metadata": {
    "colab": {
      "provenance": []
    },
    "kernelspec": {
      "display_name": "Python 3",
      "name": "python3"
    },
    "language_info": {
      "name": "python"
    },
    "widgets": {
      "application/vnd.jupyter.widget-state+json": {
        "b62480ab04c84a16b882ed4741e8d46e": {
          "model_module": "@jupyter-widgets/controls",
          "model_name": "HBoxModel",
          "model_module_version": "1.5.0",
          "state": {
            "_dom_classes": [],
            "_model_module": "@jupyter-widgets/controls",
            "_model_module_version": "1.5.0",
            "_model_name": "HBoxModel",
            "_view_count": null,
            "_view_module": "@jupyter-widgets/controls",
            "_view_module_version": "1.5.0",
            "_view_name": "HBoxView",
            "box_style": "",
            "children": [
              "IPY_MODEL_285f3c9ef1af438ea17cf6d67edca6d6",
              "IPY_MODEL_ef5c16d38e914ca8914f9ce441b7985f",
              "IPY_MODEL_1306b24f03d04d12898df2238130a773"
            ],
            "layout": "IPY_MODEL_a940e49ed5d149b0b8ccfcb1b0b88747"
          }
        },
        "285f3c9ef1af438ea17cf6d67edca6d6": {
          "model_module": "@jupyter-widgets/controls",
          "model_name": "HTMLModel",
          "model_module_version": "1.5.0",
          "state": {
            "_dom_classes": [],
            "_model_module": "@jupyter-widgets/controls",
            "_model_module_version": "1.5.0",
            "_model_name": "HTMLModel",
            "_view_count": null,
            "_view_module": "@jupyter-widgets/controls",
            "_view_module_version": "1.5.0",
            "_view_name": "HTMLView",
            "description": "",
            "description_tooltip": null,
            "layout": "IPY_MODEL_b1769066017f459d93fa1e6b0bd32afc",
            "placeholder": "​",
            "style": "IPY_MODEL_ab1014e540f0431391ade6a1d78ede54",
            "value": "Batches: 100%"
          }
        },
        "ef5c16d38e914ca8914f9ce441b7985f": {
          "model_module": "@jupyter-widgets/controls",
          "model_name": "FloatProgressModel",
          "model_module_version": "1.5.0",
          "state": {
            "_dom_classes": [],
            "_model_module": "@jupyter-widgets/controls",
            "_model_module_version": "1.5.0",
            "_model_name": "FloatProgressModel",
            "_view_count": null,
            "_view_module": "@jupyter-widgets/controls",
            "_view_module_version": "1.5.0",
            "_view_name": "ProgressView",
            "bar_style": "success",
            "description": "",
            "description_tooltip": null,
            "layout": "IPY_MODEL_98630afcd343408bb0ff2f8437a7e3ac",
            "max": 5,
            "min": 0,
            "orientation": "horizontal",
            "style": "IPY_MODEL_73d1912d83e6435fbdc97f5337628eb0",
            "value": 5
          }
        },
        "1306b24f03d04d12898df2238130a773": {
          "model_module": "@jupyter-widgets/controls",
          "model_name": "HTMLModel",
          "model_module_version": "1.5.0",
          "state": {
            "_dom_classes": [],
            "_model_module": "@jupyter-widgets/controls",
            "_model_module_version": "1.5.0",
            "_model_name": "HTMLModel",
            "_view_count": null,
            "_view_module": "@jupyter-widgets/controls",
            "_view_module_version": "1.5.0",
            "_view_name": "HTMLView",
            "description": "",
            "description_tooltip": null,
            "layout": "IPY_MODEL_71079902b82946c6ae3fa622a2313bda",
            "placeholder": "​",
            "style": "IPY_MODEL_57ce7dcc3c194cfdb8522a61c9a07f2e",
            "value": " 5/5 [00:00&lt;00:00, 22.04it/s]"
          }
        },
        "a940e49ed5d149b0b8ccfcb1b0b88747": {
          "model_module": "@jupyter-widgets/base",
          "model_name": "LayoutModel",
          "model_module_version": "1.2.0",
          "state": {
            "_model_module": "@jupyter-widgets/base",
            "_model_module_version": "1.2.0",
            "_model_name": "LayoutModel",
            "_view_count": null,
            "_view_module": "@jupyter-widgets/base",
            "_view_module_version": "1.2.0",
            "_view_name": "LayoutView",
            "align_content": null,
            "align_items": null,
            "align_self": null,
            "border": null,
            "bottom": null,
            "display": null,
            "flex": null,
            "flex_flow": null,
            "grid_area": null,
            "grid_auto_columns": null,
            "grid_auto_flow": null,
            "grid_auto_rows": null,
            "grid_column": null,
            "grid_gap": null,
            "grid_row": null,
            "grid_template_areas": null,
            "grid_template_columns": null,
            "grid_template_rows": null,
            "height": null,
            "justify_content": null,
            "justify_items": null,
            "left": null,
            "margin": null,
            "max_height": null,
            "max_width": null,
            "min_height": null,
            "min_width": null,
            "object_fit": null,
            "object_position": null,
            "order": null,
            "overflow": null,
            "overflow_x": null,
            "overflow_y": null,
            "padding": null,
            "right": null,
            "top": null,
            "visibility": null,
            "width": null
          }
        },
        "b1769066017f459d93fa1e6b0bd32afc": {
          "model_module": "@jupyter-widgets/base",
          "model_name": "LayoutModel",
          "model_module_version": "1.2.0",
          "state": {
            "_model_module": "@jupyter-widgets/base",
            "_model_module_version": "1.2.0",
            "_model_name": "LayoutModel",
            "_view_count": null,
            "_view_module": "@jupyter-widgets/base",
            "_view_module_version": "1.2.0",
            "_view_name": "LayoutView",
            "align_content": null,
            "align_items": null,
            "align_self": null,
            "border": null,
            "bottom": null,
            "display": null,
            "flex": null,
            "flex_flow": null,
            "grid_area": null,
            "grid_auto_columns": null,
            "grid_auto_flow": null,
            "grid_auto_rows": null,
            "grid_column": null,
            "grid_gap": null,
            "grid_row": null,
            "grid_template_areas": null,
            "grid_template_columns": null,
            "grid_template_rows": null,
            "height": null,
            "justify_content": null,
            "justify_items": null,
            "left": null,
            "margin": null,
            "max_height": null,
            "max_width": null,
            "min_height": null,
            "min_width": null,
            "object_fit": null,
            "object_position": null,
            "order": null,
            "overflow": null,
            "overflow_x": null,
            "overflow_y": null,
            "padding": null,
            "right": null,
            "top": null,
            "visibility": null,
            "width": null
          }
        },
        "ab1014e540f0431391ade6a1d78ede54": {
          "model_module": "@jupyter-widgets/controls",
          "model_name": "DescriptionStyleModel",
          "model_module_version": "1.5.0",
          "state": {
            "_model_module": "@jupyter-widgets/controls",
            "_model_module_version": "1.5.0",
            "_model_name": "DescriptionStyleModel",
            "_view_count": null,
            "_view_module": "@jupyter-widgets/base",
            "_view_module_version": "1.2.0",
            "_view_name": "StyleView",
            "description_width": ""
          }
        },
        "98630afcd343408bb0ff2f8437a7e3ac": {
          "model_module": "@jupyter-widgets/base",
          "model_name": "LayoutModel",
          "model_module_version": "1.2.0",
          "state": {
            "_model_module": "@jupyter-widgets/base",
            "_model_module_version": "1.2.0",
            "_model_name": "LayoutModel",
            "_view_count": null,
            "_view_module": "@jupyter-widgets/base",
            "_view_module_version": "1.2.0",
            "_view_name": "LayoutView",
            "align_content": null,
            "align_items": null,
            "align_self": null,
            "border": null,
            "bottom": null,
            "display": null,
            "flex": null,
            "flex_flow": null,
            "grid_area": null,
            "grid_auto_columns": null,
            "grid_auto_flow": null,
            "grid_auto_rows": null,
            "grid_column": null,
            "grid_gap": null,
            "grid_row": null,
            "grid_template_areas": null,
            "grid_template_columns": null,
            "grid_template_rows": null,
            "height": null,
            "justify_content": null,
            "justify_items": null,
            "left": null,
            "margin": null,
            "max_height": null,
            "max_width": null,
            "min_height": null,
            "min_width": null,
            "object_fit": null,
            "object_position": null,
            "order": null,
            "overflow": null,
            "overflow_x": null,
            "overflow_y": null,
            "padding": null,
            "right": null,
            "top": null,
            "visibility": null,
            "width": null
          }
        },
        "73d1912d83e6435fbdc97f5337628eb0": {
          "model_module": "@jupyter-widgets/controls",
          "model_name": "ProgressStyleModel",
          "model_module_version": "1.5.0",
          "state": {
            "_model_module": "@jupyter-widgets/controls",
            "_model_module_version": "1.5.0",
            "_model_name": "ProgressStyleModel",
            "_view_count": null,
            "_view_module": "@jupyter-widgets/base",
            "_view_module_version": "1.2.0",
            "_view_name": "StyleView",
            "bar_color": null,
            "description_width": ""
          }
        },
        "71079902b82946c6ae3fa622a2313bda": {
          "model_module": "@jupyter-widgets/base",
          "model_name": "LayoutModel",
          "model_module_version": "1.2.0",
          "state": {
            "_model_module": "@jupyter-widgets/base",
            "_model_module_version": "1.2.0",
            "_model_name": "LayoutModel",
            "_view_count": null,
            "_view_module": "@jupyter-widgets/base",
            "_view_module_version": "1.2.0",
            "_view_name": "LayoutView",
            "align_content": null,
            "align_items": null,
            "align_self": null,
            "border": null,
            "bottom": null,
            "display": null,
            "flex": null,
            "flex_flow": null,
            "grid_area": null,
            "grid_auto_columns": null,
            "grid_auto_flow": null,
            "grid_auto_rows": null,
            "grid_column": null,
            "grid_gap": null,
            "grid_row": null,
            "grid_template_areas": null,
            "grid_template_columns": null,
            "grid_template_rows": null,
            "height": null,
            "justify_content": null,
            "justify_items": null,
            "left": null,
            "margin": null,
            "max_height": null,
            "max_width": null,
            "min_height": null,
            "min_width": null,
            "object_fit": null,
            "object_position": null,
            "order": null,
            "overflow": null,
            "overflow_x": null,
            "overflow_y": null,
            "padding": null,
            "right": null,
            "top": null,
            "visibility": null,
            "width": null
          }
        },
        "57ce7dcc3c194cfdb8522a61c9a07f2e": {
          "model_module": "@jupyter-widgets/controls",
          "model_name": "DescriptionStyleModel",
          "model_module_version": "1.5.0",
          "state": {
            "_model_module": "@jupyter-widgets/controls",
            "_model_module_version": "1.5.0",
            "_model_name": "DescriptionStyleModel",
            "_view_count": null,
            "_view_module": "@jupyter-widgets/base",
            "_view_module_version": "1.2.0",
            "_view_name": "StyleView",
            "description_width": ""
          }
        }
      }
    }
  },
  "nbformat": 4,
  "nbformat_minor": 0
}